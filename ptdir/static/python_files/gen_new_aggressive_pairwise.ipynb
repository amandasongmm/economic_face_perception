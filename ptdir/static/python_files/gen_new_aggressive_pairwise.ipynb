{
 "cells": [
  {
   "cell_type": "code",
   "execution_count": 1,
   "metadata": {
    "collapsed": true
   },
   "outputs": [],
   "source": [
    "import os\n",
    "import glob\n",
    "import shutil\n",
    "from shutil import copyfile\n",
    "import pandas as pd\n",
    "import numpy as np\n",
    "from pylab import imread\n",
    "import matplotlib.pyplot as plt\n",
    "from sklearn.utils import shuffle\n",
    "from os import listdir\n",
    "import random\n"
   ]
  },
  {
   "cell_type": "code",
   "execution_count": 6,
   "metadata": {},
   "outputs": [
    {
     "name": "stdout",
     "output_type": "stream",
     "text": [
      "total file num in ../images/modifae_pairwise/aggressive_new/ is 300\n",
      "total different num of id = 100\n"
     ]
    }
   ],
   "source": [
    "trait = 'aggressive_new'\n",
    "trait_abr = 'aggressive'\n",
    "pair_level = 'mid-high'\n",
    "gt_img_dir = '/static/images/gt_pairwise/'\n",
    "prep_data_dir = '../../../preparation_data/amt_modifae_pairwise/'\n",
    "\n",
    "n_unique_num = 80\n",
    "n_rep_num = 10\n",
    "n_gt_num = 10\n",
    "low_post_fix = '_-1.png'\n",
    "mid_post_fix = '_0.0.png'\n",
    "high_post_fix = '_1.png'\n",
    "\n",
    "cur_im_dir = '../images/modifae_pairwise/' + trait + '/'\n",
    "git_im_dir = '/static/images/modifae_pairwise/' + trait + '/'\n",
    "\n",
    "cur_dir_all_file_lst = os.listdir(cur_im_dir)\n",
    "print('total file num in {} is {}'.format(cur_im_dir, len(cur_dir_all_file_lst)))\n",
    "cur_dir_all_uniq_lst = set([i.split('_')[0] for i in cur_dir_all_file_lst])\n",
    "print('total different num of id = {}'.format(len(cur_dir_all_uniq_lst)))"
   ]
  },
  {
   "cell_type": "code",
   "execution_count": 7,
   "metadata": {},
   "outputs": [
    {
     "name": "stdout",
     "output_type": "stream",
     "text": [
      "keep num = 80\n",
      "unique ele = 80\n"
     ]
    }
   ],
   "source": [
    "select_file_lst = list(cur_dir_all_uniq_lst)[:n_unique_num]\n",
    "print('keep num = {}'.format(len(select_file_lst)))\n",
    "im1_post_fix, im2_post_fix = mid_post_fix, high_post_fix\n",
    "gt_im1_lst = [gt_img_dir + trait_abr + '-mid-' + str(i) + '.png' for i in range(0, n_gt_num)]\n",
    "gt_im2_lst = [gt_img_dir + trait_abr + '-high-' + str(i) + '.png' for i in range(0, n_gt_num)]\n",
    "im1_lst = [git_im_dir + i + im1_post_fix for i in select_file_lst]\n",
    "im2_lst = [git_im_dir + i + im2_post_fix for i in select_file_lst]\n",
    "\n",
    "stim_df = pd.DataFrame({'im1': im1_lst, \n",
    "                       'im2': im2_lst, \n",
    "                       'task_type': 'modifae', \n",
    "                       'repeat': 0, \n",
    "                       'low_first':1,\n",
    "                      'pair_ind': range(0, n_unique_num)})\n",
    "print('unique ele = {}'.format(stim_df['im1'].nunique()))"
   ]
  },
  {
   "cell_type": "code",
   "execution_count": 10,
   "metadata": {},
   "outputs": [],
   "source": [
    "stim_repeat = stim_df.sample(n_rep_num)\n",
    "stim_repeat['repeat'] = 1"
   ]
  },
  {
   "cell_type": "code",
   "execution_count": 12,
   "metadata": {},
   "outputs": [
    {
     "data": {
      "text/plain": [
       "10"
      ]
     },
     "execution_count": 12,
     "metadata": {},
     "output_type": "execute_result"
    }
   ],
   "source": [
    "stim_repeat['im1'].nunique()"
   ]
  },
  {
   "cell_type": "code",
   "execution_count": 14,
   "metadata": {
    "collapsed": true
   },
   "outputs": [],
   "source": [
    "gt_df = pd.DataFrame({'im1': gt_im1_lst,\n",
    "                      'im2': gt_im2_lst,\n",
    "                      'task_type': 'gt',\n",
    "                      'repeat': 0,\n",
    "                      'low_first': 1,\n",
    "                      'pair_ind': range(n_unique_num, n_unique_num+n_gt_num)})"
   ]
  },
  {
   "cell_type": "code",
   "execution_count": 15,
   "metadata": {},
   "outputs": [
    {
     "data": {
      "text/plain": [
       "10"
      ]
     },
     "execution_count": 15,
     "metadata": {},
     "output_type": "execute_result"
    }
   ],
   "source": [
    "gt_df['im1'].nunique()"
   ]
  },
  {
   "cell_type": "code",
   "execution_count": 16,
   "metadata": {
    "collapsed": true
   },
   "outputs": [],
   "source": [
    "merged_df = pd.concat([stim_df, stim_repeat, gt_df], ignore_index=True)"
   ]
  },
  {
   "cell_type": "code",
   "execution_count": 17,
   "metadata": {},
   "outputs": [
    {
     "data": {
      "text/plain": [
       "(100, 6)"
      ]
     },
     "execution_count": 17,
     "metadata": {},
     "output_type": "execute_result"
    }
   ],
   "source": [
    "merged_df.shape"
   ]
  },
  {
   "cell_type": "code",
   "execution_count": 18,
   "metadata": {},
   "outputs": [
    {
     "data": {
      "text/plain": [
       "90"
      ]
     },
     "execution_count": 18,
     "metadata": {},
     "output_type": "execute_result"
    }
   ],
   "source": [
    "merged_df['im1'].nunique()"
   ]
  },
  {
   "cell_type": "code",
   "execution_count": 29,
   "metadata": {},
   "outputs": [
    {
     "data": {
      "text/plain": [
       "90"
      ]
     },
     "execution_count": 29,
     "metadata": {},
     "output_type": "execute_result"
    }
   ],
   "source": [
    "df = merged_df.sample(frac=1, random_state=1)\n",
    "df['im1'].nunique()"
   ]
  },
  {
   "cell_type": "code",
   "execution_count": 30,
   "metadata": {},
   "outputs": [],
   "source": [
    "rand_lst = [random.randint(0, 1) for i in range(0, len(df))]\n",
    "for ind, row in df.iterrows():\n",
    "    im1_name = row['im1']\n",
    "    im2_name = row['im2']\n",
    "\n",
    "    if rand_lst[ind] == 0:\n",
    "        df['im1'].loc[ind] = im2_name\n",
    "        df['im2'].loc[ind] = im1_name\n",
    "        df['low_first'].loc[ind] = 0"
   ]
  },
  {
   "cell_type": "code",
   "execution_count": 31,
   "metadata": {},
   "outputs": [
    {
     "data": {
      "text/html": [
       "<div>\n",
       "<style scoped>\n",
       "    .dataframe tbody tr th:only-of-type {\n",
       "        vertical-align: middle;\n",
       "    }\n",
       "\n",
       "    .dataframe tbody tr th {\n",
       "        vertical-align: top;\n",
       "    }\n",
       "\n",
       "    .dataframe thead th {\n",
       "        text-align: right;\n",
       "    }\n",
       "</style>\n",
       "<table border=\"1\" class=\"dataframe\">\n",
       "  <thead>\n",
       "    <tr style=\"text-align: right;\">\n",
       "      <th></th>\n",
       "      <th>im1</th>\n",
       "      <th>im2</th>\n",
       "      <th>low_first</th>\n",
       "      <th>pair_ind</th>\n",
       "      <th>repeat</th>\n",
       "      <th>task_type</th>\n",
       "    </tr>\n",
       "  </thead>\n",
       "  <tbody>\n",
       "    <tr>\n",
       "      <th>93</th>\n",
       "      <td>/static/images/gt_pairwise/aggressive-mid-3.png</td>\n",
       "      <td>/static/images/gt_pairwise/aggressive-high-3.png</td>\n",
       "      <td>1</td>\n",
       "      <td>83</td>\n",
       "      <td>0</td>\n",
       "      <td>gt</td>\n",
       "    </tr>\n",
       "    <tr>\n",
       "      <th>92</th>\n",
       "      <td>/static/images/gt_pairwise/aggressive-high-2.png</td>\n",
       "      <td>/static/images/gt_pairwise/aggressive-mid-2.png</td>\n",
       "      <td>0</td>\n",
       "      <td>82</td>\n",
       "      <td>0</td>\n",
       "      <td>gt</td>\n",
       "    </tr>\n",
       "    <tr>\n",
       "      <th>97</th>\n",
       "      <td>/static/images/gt_pairwise/aggressive-high-7.png</td>\n",
       "      <td>/static/images/gt_pairwise/aggressive-mid-7.png</td>\n",
       "      <td>0</td>\n",
       "      <td>87</td>\n",
       "      <td>0</td>\n",
       "      <td>gt</td>\n",
       "    </tr>\n",
       "    <tr>\n",
       "      <th>94</th>\n",
       "      <td>/static/images/gt_pairwise/aggressive-mid-4.png</td>\n",
       "      <td>/static/images/gt_pairwise/aggressive-high-4.png</td>\n",
       "      <td>1</td>\n",
       "      <td>84</td>\n",
       "      <td>0</td>\n",
       "      <td>gt</td>\n",
       "    </tr>\n",
       "    <tr>\n",
       "      <th>99</th>\n",
       "      <td>/static/images/gt_pairwise/aggressive-mid-9.png</td>\n",
       "      <td>/static/images/gt_pairwise/aggressive-high-9.png</td>\n",
       "      <td>1</td>\n",
       "      <td>89</td>\n",
       "      <td>0</td>\n",
       "      <td>gt</td>\n",
       "    </tr>\n",
       "    <tr>\n",
       "      <th>95</th>\n",
       "      <td>/static/images/gt_pairwise/aggressive-mid-5.png</td>\n",
       "      <td>/static/images/gt_pairwise/aggressive-high-5.png</td>\n",
       "      <td>1</td>\n",
       "      <td>85</td>\n",
       "      <td>0</td>\n",
       "      <td>gt</td>\n",
       "    </tr>\n",
       "    <tr>\n",
       "      <th>91</th>\n",
       "      <td>/static/images/gt_pairwise/aggressive-mid-1.png</td>\n",
       "      <td>/static/images/gt_pairwise/aggressive-high-1.png</td>\n",
       "      <td>1</td>\n",
       "      <td>81</td>\n",
       "      <td>0</td>\n",
       "      <td>gt</td>\n",
       "    </tr>\n",
       "    <tr>\n",
       "      <th>98</th>\n",
       "      <td>/static/images/gt_pairwise/aggressive-high-8.png</td>\n",
       "      <td>/static/images/gt_pairwise/aggressive-mid-8.png</td>\n",
       "      <td>0</td>\n",
       "      <td>88</td>\n",
       "      <td>0</td>\n",
       "      <td>gt</td>\n",
       "    </tr>\n",
       "    <tr>\n",
       "      <th>90</th>\n",
       "      <td>/static/images/gt_pairwise/aggressive-mid-0.png</td>\n",
       "      <td>/static/images/gt_pairwise/aggressive-high-0.png</td>\n",
       "      <td>1</td>\n",
       "      <td>80</td>\n",
       "      <td>0</td>\n",
       "      <td>gt</td>\n",
       "    </tr>\n",
       "    <tr>\n",
       "      <th>96</th>\n",
       "      <td>/static/images/gt_pairwise/aggressive-high-6.png</td>\n",
       "      <td>/static/images/gt_pairwise/aggressive-mid-6.png</td>\n",
       "      <td>0</td>\n",
       "      <td>86</td>\n",
       "      <td>0</td>\n",
       "      <td>gt</td>\n",
       "    </tr>\n",
       "  </tbody>\n",
       "</table>\n",
       "</div>"
      ],
      "text/plain": [
       "                                                 im1  \\\n",
       "93   /static/images/gt_pairwise/aggressive-mid-3.png   \n",
       "92  /static/images/gt_pairwise/aggressive-high-2.png   \n",
       "97  /static/images/gt_pairwise/aggressive-high-7.png   \n",
       "94   /static/images/gt_pairwise/aggressive-mid-4.png   \n",
       "99   /static/images/gt_pairwise/aggressive-mid-9.png   \n",
       "95   /static/images/gt_pairwise/aggressive-mid-5.png   \n",
       "91   /static/images/gt_pairwise/aggressive-mid-1.png   \n",
       "98  /static/images/gt_pairwise/aggressive-high-8.png   \n",
       "90   /static/images/gt_pairwise/aggressive-mid-0.png   \n",
       "96  /static/images/gt_pairwise/aggressive-high-6.png   \n",
       "\n",
       "                                                 im2  low_first  pair_ind  \\\n",
       "93  /static/images/gt_pairwise/aggressive-high-3.png          1        83   \n",
       "92   /static/images/gt_pairwise/aggressive-mid-2.png          0        82   \n",
       "97   /static/images/gt_pairwise/aggressive-mid-7.png          0        87   \n",
       "94  /static/images/gt_pairwise/aggressive-high-4.png          1        84   \n",
       "99  /static/images/gt_pairwise/aggressive-high-9.png          1        89   \n",
       "95  /static/images/gt_pairwise/aggressive-high-5.png          1        85   \n",
       "91  /static/images/gt_pairwise/aggressive-high-1.png          1        81   \n",
       "98   /static/images/gt_pairwise/aggressive-mid-8.png          0        88   \n",
       "90  /static/images/gt_pairwise/aggressive-high-0.png          1        80   \n",
       "96   /static/images/gt_pairwise/aggressive-mid-6.png          0        86   \n",
       "\n",
       "    repeat task_type  \n",
       "93       0        gt  \n",
       "92       0        gt  \n",
       "97       0        gt  \n",
       "94       0        gt  \n",
       "99       0        gt  \n",
       "95       0        gt  \n",
       "91       0        gt  \n",
       "98       0        gt  \n",
       "90       0        gt  \n",
       "96       0        gt  "
      ]
     },
     "execution_count": 31,
     "metadata": {},
     "output_type": "execute_result"
    }
   ],
   "source": [
    "df[df['task_type']=='gt']"
   ]
  },
  {
   "cell_type": "code",
   "execution_count": 32,
   "metadata": {
    "collapsed": true
   },
   "outputs": [],
   "source": [
    "save_csv_name = prep_data_dir + trait + '-' + pair_level + '-stim-lst.csv'\n",
    "df.to_csv(save_csv_name, index=False)\n",
    "\n",
    "# write the df into txt format. list of lists.\n",
    "test_lst = []\n",
    "for ind, row in df.iterrows():\n",
    "    test_lst.append(row.values.tolist())\n",
    "\n",
    "save_txt_name = prep_data_dir + trait + '-' + pair_level + '.txt'\n",
    "\n",
    "with open(save_txt_name, 'w') as f:\n",
    "    f.write(\"var stims = [\\n\")\n",
    "    for cur_line in test_lst:\n",
    "        f.write(\"{},\\n\".format(cur_line))\n",
    "    f.write('];\\n')"
   ]
  },
  {
   "cell_type": "code",
   "execution_count": null,
   "metadata": {
    "collapsed": true
   },
   "outputs": [],
   "source": []
  }
 ],
 "metadata": {
  "kernelspec": {
   "display_name": "Python 2",
   "language": "python",
   "name": "python2"
  },
  "language_info": {
   "codemirror_mode": {
    "name": "ipython",
    "version": 2
   },
   "file_extension": ".py",
   "mimetype": "text/x-python",
   "name": "python",
   "nbconvert_exporter": "python",
   "pygments_lexer": "ipython2",
   "version": "2.7.13"
  }
 },
 "nbformat": 4,
 "nbformat_minor": 2
}
