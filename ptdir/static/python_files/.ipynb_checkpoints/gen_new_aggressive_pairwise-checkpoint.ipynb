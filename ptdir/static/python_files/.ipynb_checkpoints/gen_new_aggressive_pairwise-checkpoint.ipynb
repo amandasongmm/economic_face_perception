{
 "cells": [
  {
   "cell_type": "code",
   "execution_count": 1,
   "metadata": {
    "collapsed": true
   },
   "outputs": [],
   "source": [
    "import os\n",
    "import glob\n",
    "import shutil\n",
    "from shutil import copyfile\n",
    "import pandas as pd\n",
    "import numpy as np\n",
    "from pylab import imread\n",
    "import matplotlib.pyplot as plt\n",
    "from sklearn.utils import shuffle\n",
    "from os import listdir\n",
    "import random\n"
   ]
  },
  {
   "cell_type": "code",
   "execution_count": 2,
   "metadata": {},
   "outputs": [
    {
     "name": "stdout",
     "output_type": "stream",
     "text": [
      "total file num in ../images/modifae_pairwise/aggressive_new/ is 300\n",
      "total different num of id = 100\n"
     ]
    }
   ],
   "source": [
    "trait = 'aggressive_new'\n",
    "trait_abr = 'aggressive'\n",
    "pair_level = 'mid-high'\n",
    "gt_img_dir = '/static/images/gt_pairwise/'\n",
    "prep_data_dir = '../../../preparation_data/amt_modifae_pairwise/'\n",
    "\n",
    "n_unique_num = 80\n",
    "n_rep_num = 10\n",
    "n_gt_num = 10\n",
    "low_post_fix = '-1'\n",
    "mid_post_fix = '0'\n",
    "high_post_fix = '1'\n",
    "\n",
    "cur_im_dir = '../images/modifae_pairwise/' + trait + '/'\n",
    "git_im_dir = '/static/images/modifae_pairwise/' + trait + '/'\n",
    "\n",
    "cur_dir_all_file_lst = os.listdir(cur_im_dir)\n",
    "print('total file num in {} is {}'.format(cur_im_dir, len(cur_dir_all_file_lst)))\n",
    "cur_dir_all_uniq_lst = set([i.split('_')[0] for i in cur_dir_all_file_lst])\n",
    "print('total different num of id = {}'.format(len(cur_dir_all_uniq_lst)))"
   ]
  },
  {
   "cell_type": "code",
   "execution_count": null,
   "metadata": {
    "collapsed": true
   },
   "outputs": [],
   "source": [
    "im1_post_fix, im2_post_fix = mid_post_fix, high_post_fix\n",
    "gt_im1_lst = [gt_img_dir + trait_abr + '-mid-' + str(i) + '.png' for i in range(0, n_gt_num)]\n",
    "gt_im2_lst = [gt_img_dir + trait_abr + '-high-' + str(i) + '.png' for i in range(0, n_gt_num)]"
   ]
  }
 ],
 "metadata": {
  "kernelspec": {
   "display_name": "Python 2",
   "language": "python",
   "name": "python2"
  },
  "language_info": {
   "codemirror_mode": {
    "name": "ipython",
    "version": 2
   },
   "file_extension": ".py",
   "mimetype": "text/x-python",
   "name": "python",
   "nbconvert_exporter": "python",
   "pygments_lexer": "ipython2",
   "version": "2.7.13"
  }
 },
 "nbformat": 4,
 "nbformat_minor": 2
}
