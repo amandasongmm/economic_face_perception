{
 "cells": [
  {
   "cell_type": "markdown",
   "metadata": {},
   "source": [
    "# To Do:\n",
    "1. Check relationship between self-consistency and consistency w/ other subjects\n",
    "2. relation between modified faces and the images original rating"
   ]
  },
  {
   "cell_type": "code",
   "execution_count": 4,
   "metadata": {},
   "outputs": [],
   "source": [
    "import pandas as pd\n",
    "import matplotlib.pyplot as plt\n",
    "import numpy as np\n",
    "import re\n",
    "from scipy.stats import pearsonr as corr\n",
    "from correlationMethods import *\n"
   ]
  },
  {
   "cell_type": "markdown",
   "metadata": {},
   "source": [
    "#### consistency with others:\n",
    "1. convert the dataframe to a suitable model\n",
    "2. Feed dataframe to the correct ICC"
   ]
  },
  {
   "cell_type": "markdown",
   "metadata": {},
   "source": [
    "#### Steps to create dataframe with the index-subjectId, column headers-imgName, and rating as the inner values:\n",
    "1. Find all the unique Id's\n",
    "2. find all the values that are double rated - average the two\n",
    "3. each subject should have ~80 scores\n",
    "4. there are a bunch of imgNames, set them as the column headers\n",
    "5. set the scores so that its missing values"
   ]
  },
  {
   "cell_type": "markdown",
   "metadata": {},
   "source": [
    "#### Steps to calculate self consistancy:\n",
    "1. find which faces were rated twice \n",
    "2. extract the score\n",
    "3. pearson correlation"
   ]
  },
  {
   "cell_type": "code",
   "execution_count": 3,
   "metadata": {},
   "outputs": [],
   "source": [
    "def calcSelfConsistency(df):\n",
    "    print(\"Consistency with self\")\n",
    "    corrList = []\n",
    "    for sub in sorted(df.subId.unique()):\n",
    "        # find the imgNames that repeat\n",
    "        subdf = df.loc[df[\"subId\"] == sub]\n",
    "        imgCounts = subdf[\"imgName\"].value_counts()\n",
    "        imgPairs = list(imgCounts[imgCounts == 2].index)\n",
    "        # extract the scores\n",
    "        trials = subdf.loc[subdf['imgName'].isin(imgPairs)].sort_values(\"imgName\").rating\n",
    "        first = trials[::2]\n",
    "        second = trials[1::2]\n",
    "        # Pearson + output\n",
    "        c = corr(first, second)\n",
    "        print(\"SubId: \" + sub)\n",
    "        print(\"\\t Pearson Cor: \", c[0])\n",
    "        corrList.append(c[0])\n",
    "        print(\"\\t p-val: \", c[1])\n",
    "    return corrList"
   ]
  },
  {
   "cell_type": "markdown",
   "metadata": {},
   "source": [
    "correlation to group\n",
    "1. seperate subject with rest\n",
    "2. average rest's image rating\n",
    "3. correlate"
   ]
  },
  {
   "cell_type": "code",
   "execution_count": 4,
   "metadata": {},
   "outputs": [],
   "source": [
    "# this is to set up the experiment\n",
    "# default aggfunc is numpy.mean\n",
    "# pd.pivot_table(agg, index=\"subId\", columns=\"imgName\", values=\"rating\")\n",
    "def calcGroupConsistency(df):\n",
    "    print(\"Consistency with group\")\n",
    "    corrList = []\n",
    "    df2 = pd.pivot_table(df, index=\"subId\", columns=\"imgName\", values=\"rating\")\n",
    "    for sub in df2.index:\n",
    "        subData = df2.loc[sub]\n",
    "        groupdf =  df2.drop(sub, axis=0)\n",
    "        groupData = groupdf.mean(axis=0)\n",
    "        print(\"SubId: \" + sub)\n",
    "        c = corr(subData, groupData)\n",
    "        print(\"\\t Pearson Cor: \", c[0])\n",
    "        corrList.append(c[0])\n",
    "        print(\"\\t p-val: \", c[1])\n",
    "    return corrList"
   ]
  },
  {
   "cell_type": "code",
   "execution_count": 59,
   "metadata": {},
   "outputs": [],
   "source": [
    "celeb = pd.read_csv(\"celeb_ratings.csv\")\n",
    "def calcrHumrMacConsistency(df, attribute):\n",
    "    print(\"Attribute Correlation: \")\n",
    "    f = celeb[[\"Filename\", \"aggressive\",\"attractive\", \"intelligent\", \"trustworthy\"]]\n",
    "    MacData = f.loc[f['Filename'].isin(set(agg.imgName))].sort_values(\"Filename\")[attribute]\n",
    "    HumData = pd.pivot_table(agg, index=\"subId\", columns=\"imgName\", values=\"rating\").mean(axis=0)\n",
    "    c = corr(MacData, HumData)\n",
    "    print(\"\\t Pearson Cor: \", c[0])\n",
    "    print(\"\\t p-val: \", c[1])\n",
    "\n",
    "def calcmHumrMac(trait):\n",
    "    mHum = pd.read_csv(\"../modifae_\" + trait + \"/likert_data.csv\")\n",
    "    mHumData = pd.pivot_table(mHum, index=\"subId\", columns=\"imgName\", values=\"rating\").mean(axis=0)\n",
    "    mHumIndex = mHumData.index\n",
    "    \n",
    "    indexNames = []\n",
    "    for i in modIndex:\n",
    "        indexNames.append(i.split(\"_\")[0] + \".jpg\")\n",
    "    mHumData.index = indexNames\n",
    "\n",
    "    rCom = celeb[[\"Filename\", trait]]\n",
    "    rCom = rCom.loc[rCom['Filename'].isin(indexNames)].sort_values(\"Filename\")\n",
    "    rCom.index = rCom.Filename\n",
    "    rCom = rCom.drop(\"Filename\", axis=1)\n",
    "\n",
    "    x = pd.concat([rCom, mHumData], axis=1, join_axes=[rCom.index])\n",
    "    c = corr(x[0], x[trait])\n",
    "    \n",
    "    plt.scatter(x[0], x[trait])\n",
    "    plt.ylabel(\"Computer - Raw\")\n",
    "    plt.xlabel(\"Human - Modified\")\n",
    "    plt.title(\"P-Corr: \" + str(round(c[0], 3)) + \", HuMa \" + trait + \" Rating\")\n",
    "    plt.show()"
   ]
  },
  {
   "cell_type": "markdown",
   "metadata": {},
   "source": [
    "## Aggressive"
   ]
  },
  {
   "cell_type": "markdown",
   "metadata": {},
   "source": [
    "Self-Consistency v. group-consistency"
   ]
  },
  {
   "cell_type": "code",
   "execution_count": 68,
   "metadata": {},
   "outputs": [],
   "source": [
    "#pd.read_csv(\"../../../preparation_data/amt_gt_validation/aggressive_stim_lst.csv\")\n",
    "#pd.read_csv(\"../../../preparation_data/amt_modifae_new_single/aggressive_stim_lst.csv\")\n",
    "#pd.read_csv(\"../../../preparation_data/amt_modifAE_single_rating/aggressive_stim_lst.csv\")"
   ]
  },
  {
   "cell_type": "code",
   "execution_count": 2,
   "metadata": {},
   "outputs": [],
   "source": [
    "rawHumAgg = pd.read_csv(\"../aggressive/likert_data.csv\")\n",
    "modHumAgg = pd.read_csv(\"../modifae_aggressive/likert_data.csv\")"
   ]
  },
  {
   "cell_type": "code",
   "execution_count": 3,
   "metadata": {},
   "outputs": [
    {
     "ename": "NameError",
     "evalue": "name 'calcmHumrMac' is not defined",
     "output_type": "error",
     "traceback": [
      "\u001b[0;31m---------------------------------------------------------------------------\u001b[0m",
      "\u001b[0;31mNameError\u001b[0m                                 Traceback (most recent call last)",
      "\u001b[0;32m<ipython-input-3-403732b16ab1>\u001b[0m in \u001b[0;36m<module>\u001b[0;34m()\u001b[0m\n\u001b[0;32m----> 1\u001b[0;31m \u001b[0mcalcmHumrMac\u001b[0m\u001b[0;34m(\u001b[0m\u001b[0;34m\"aggressive\"\u001b[0m\u001b[0;34m)\u001b[0m\u001b[0;34m\u001b[0m\u001b[0m\n\u001b[0m",
      "\u001b[0;31mNameError\u001b[0m: name 'calcmHumrMac' is not defined"
     ]
    }
   ],
   "source": [
    "calcmHumrMac(\"aggressive\")"
   ]
  },
  {
   "cell_type": "code",
   "execution_count": 15,
   "metadata": {},
   "outputs": [],
   "source": [
    "#selfCorrAgg = calcSelfConsistency(rawHumAgg)\n",
    "#groupCorrAgg = calcGroupConsistency(rawHumAgg)\n",
    "#calcHumMacConsistency(rawHumAgg, \"aggressive\")"
   ]
  },
  {
   "cell_type": "code",
   "execution_count": 14,
   "metadata": {
    "scrolled": true
   },
   "outputs": [
    {
     "data": {
      "text/plain": [
       "'\\nfig, ax = plt.subplots()\\nplt.xlabel(\"self\")\\nplt.ylabel(\"group\")\\nplt.title(\"aggressive\")\\nax.scatter(selfCorrAgg, groupCorrAgg)\\nsubjs = map(lambda x: x[:4], agg.subId.unique())\\nfor i, txt in enumerate(sorted(subjs)):\\n    ax.annotate(txt, (selfCorrAgg[i], groupCorrAgg[i]))\\n'"
      ]
     },
     "execution_count": 14,
     "metadata": {},
     "output_type": "execute_result"
    }
   ],
   "source": [
    "\"\"\"\n",
    "fig, ax = plt.subplots()\n",
    "plt.xlabel(\"self\")\n",
    "plt.ylabel(\"group\")\n",
    "plt.title(\"aggressive\")\n",
    "ax.scatter(selfCorrAgg, groupCorrAgg)\n",
    "subjs = map(lambda x: x[:4], agg.subId.unique())\n",
    "for i, txt in enumerate(sorted(subjs)):\n",
    "    ax.annotate(txt, (selfCorrAgg[i], groupCorrAgg[i]))\n",
    "\"\"\""
   ]
  },
  {
   "cell_type": "markdown",
   "metadata": {},
   "source": [
    "### ICC\n",
    "<img src=\"imgs/agg.png\">"
   ]
  },
  {
   "cell_type": "code",
   "execution_count": null,
   "metadata": {},
   "outputs": [],
   "source": []
  },
  {
   "cell_type": "code",
   "execution_count": null,
   "metadata": {},
   "outputs": [],
   "source": [
    "#pd.pivot_table(agg, index=\"subId\", columns=\"imgName\", values=\"rating\").to_csv(\"aggPiv.csv\")\n",
    "pd.pivot_table(aggMod, index=\"subId\", columns=\"imgName\", values=\"rating\").to_csv(\"aggModPiv.csv\")"
   ]
  },
  {
   "cell_type": "markdown",
   "metadata": {},
   "source": [
    "## Attractive"
   ]
  },
  {
   "cell_type": "code",
   "execution_count": 43,
   "metadata": {},
   "outputs": [],
   "source": [
    "att = pd.read_csv(\"../attractive/likert_data.csv\")\n",
    "attMod = pd.read_csv(\"../modifae_attractive/likert_data.csv\")"
   ]
  },
  {
   "cell_type": "code",
   "execution_count": 93,
   "metadata": {},
   "outputs": [
    {
     "data": {
      "image/png": "[encoded data removed]",
      "text/plain": [
       "<Figure size 432x288 with 1 Axes>"
      ]
     },
     "metadata": {
      "needs_background": "light"
     },
     "output_type": "display_data"
    }
   ],
   "source": [
    "calcmHumrMac(\"attractive\")"
   ]
  },
  {
   "cell_type": "code",
   "execution_count": 44,
   "metadata": {},
   "outputs": [],
   "source": [
    "modIndex = pd.pivot_table(attMod, index=\"subId\", columns=\"imgName\", values=\"rating\").mean(axis=0).index\n",
    "indexNames = []\n",
    "for i in modIndex:\n",
    "    indexNames.append(i.split(\"_\")[0] + \".jpg\")\n",
    "    \n",
    "rawComp = celeb[[\"Filename\", \"attractive\"]]\n",
    "rawComp = rawComp.loc[rawComp['Filename'].isin(indexNames)].sort_values(\"Filename\")\n",
    "rawComp.index = rawComp.Filename\n",
    "rawComp = rawComp.drop(\"Filename\", axis=1)\n",
    "\n",
    "modHumData = pd.pivot_table(attMod, index=\"subId\", columns=\"imgName\", values=\"rating\").mean()\n",
    "modHumData.index = indexNames\n",
    "\n",
    "x = pd.concat([rawComp, modHumData], axis=1, join_axes=[rawComp.index])"
   ]
  },
  {
   "cell_type": "code",
   "execution_count": 45,
   "metadata": {},
   "outputs": [
    {
     "data": {
      "text/plain": [
       "(0.7778120457014719, 5.749486830172891e-16)"
      ]
     },
     "execution_count": 45,
     "metadata": {},
     "output_type": "execute_result"
    }
   ],
   "source": [
    "corr(x[0], x.attractive)"
   ]
  },
  {
   "cell_type": "code",
   "execution_count": 46,
   "metadata": {},
   "outputs": [
    {
     "data": {
      "image/png": "[encoded data removed]",
      "text/plain": [
       "<Figure size 432x288 with 1 Axes>"
      ]
     },
     "metadata": {
      "needs_background": "light"
     },
     "output_type": "display_data"
    }
   ],
   "source": [
    "plt.scatter(x[0], x.attractive)\n",
    "plt.ylabel(\"Computer - raw\")\n",
    "plt.xlabel(\"Human - modified\")\n",
    "plt.title(\"P-Corr: .778, HuMa Attractive Rating\")\n",
    "plt.show()"
   ]
  },
  {
   "cell_type": "code",
   "execution_count": null,
   "metadata": {},
   "outputs": [],
   "source": [
    "#selfCorrAtt = calcSelfConsistency(att)\n",
    "#groupCorrAtt = calcGroupConsistency(att)\n",
    "#calcHumMacConsistency(att, \"attractive\")"
   ]
  },
  {
   "cell_type": "code",
   "execution_count": null,
   "metadata": {},
   "outputs": [],
   "source": [
    "\"\"\"\n",
    "fig, ax = plt.subplots()\n",
    "plt.xlabel(\"self\")\n",
    "plt.ylabel(\"group\")\n",
    "plt.title(\"attractive\")\n",
    "ax.scatter(selfCorrAtt, groupCorrAtt)\n",
    "subjs = map(lambda x: x[:4], att.subId.unique())\n",
    "for i, txt in enumerate(sorted(subjs)):\n",
    "    ax.annotate(txt, (selfCorrAtt[i], groupCorrAtt[i]))\n",
    "\"\"\""
   ]
  },
  {
   "cell_type": "markdown",
   "metadata": {},
   "source": [
    "### ICC\n",
    "<img src=\"imgs/att.png\">"
   ]
  },
  {
   "cell_type": "code",
   "execution_count": null,
   "metadata": {},
   "outputs": [],
   "source": [
    "#pd.pivot_table(att, index=\"subId\", columns=\"imgName\", values=\"rating\").to_csv(\"attPiv.csv\")"
   ]
  },
  {
   "cell_type": "markdown",
   "metadata": {},
   "source": [
    "## Intelligent"
   ]
  },
  {
   "cell_type": "code",
   "execution_count": 47,
   "metadata": {},
   "outputs": [],
   "source": [
    "inte = pd.read_csv(\"../intelligent/likert_data.csv\")\n",
    "inteMod = pd.read_csv(\"../modifae_intelligent/likert_data.csv\")"
   ]
  },
  {
   "cell_type": "code",
   "execution_count": 30,
   "metadata": {},
   "outputs": [],
   "source": [
    "modIndex = pd.pivot_table(inteMod, index=\"subId\", columns=\"imgName\", values=\"rating\").mean(axis=0).index\n",
    "indexNames = []\n",
    "for i in modIndex:\n",
    "    indexNames.append(i.split(\"_\")[0] + \".jpg\")\n",
    "    \n",
    "rawComp = celeb[[\"Filename\", \"intelligent\"]]\n",
    "rawComp = rawComp.loc[rawComp['Filename'].isin(indexNames)].sort_values(\"Filename\")\n",
    "rawComp.index = rawComp.Filename\n",
    "rawComp = rawComp.drop(\"Filename\", axis=1)\n",
    "\n",
    "modHumData = pd.pivot_table(inteMod, index=\"subId\", columns=\"imgName\", values=\"rating\").mean()\n",
    "modHumData.index = indexNames\n",
    "\n",
    "x = pd.concat([rawComp, modHumData], axis=1, join_axes=[rawComp.index])"
   ]
  },
  {
   "cell_type": "code",
   "execution_count": 31,
   "metadata": {},
   "outputs": [
    {
     "data": {
      "text/plain": [
       "(0.13118285342786817, 0.26524135102315227)"
      ]
     },
     "execution_count": 31,
     "metadata": {},
     "output_type": "execute_result"
    }
   ],
   "source": [
    "corr(x[0], x.intelligent)"
   ]
  },
  {
   "cell_type": "code",
   "execution_count": 34,
   "metadata": {},
   "outputs": [
    {
     "data": {
      "image/png": "[encoded data removed]",
      "text/plain": [
       "<Figure size 432x288 with 1 Axes>"
      ]
     },
     "metadata": {
      "needs_background": "light"
     },
     "output_type": "display_data"
    }
   ],
   "source": [
    "plt.scatter(x[0], x.intelligent)\n",
    "plt.ylabel(\"Computer - raw\")\n",
    "plt.xlabel(\"Human - modified\")\n",
    "plt.title(\"P-Corr: .131, HuMa Intelligent Rating\")\n",
    "plt.show()"
   ]
  },
  {
   "cell_type": "code",
   "execution_count": null,
   "metadata": {},
   "outputs": [],
   "source": [
    "#selfCorrInte = calcSelfConsistency(inte)\n",
    "#groupCorrInte = calcGroupConsistency(inte)\n",
    "#calcHumMacConsistency(inte, \"intelligent\")"
   ]
  },
  {
   "cell_type": "code",
   "execution_count": null,
   "metadata": {},
   "outputs": [],
   "source": [
    "\"\"\"\n",
    "fig, ax = plt.subplots()\n",
    "plt.xlabel(\"self\")\n",
    "plt.ylabel(\"group\")\n",
    "plt.title(\"intelligent\")\n",
    "ax.scatter(selfCorrInte, groupCorrInte)\n",
    "subjs = map(lambda x: x[:4], inte.subId.unique())\n",
    "for i, txt in enumerate(sorted(subjs)):\n",
    "    ax.annotate(txt, (selfCorrInte[i], groupCorrInte[i]))\n",
    "\"\"\""
   ]
  },
  {
   "cell_type": "markdown",
   "metadata": {},
   "source": [
    "### ICC\n",
    "<img src=\"imgs/inte.png\">"
   ]
  },
  {
   "cell_type": "code",
   "execution_count": null,
   "metadata": {},
   "outputs": [],
   "source": [
    "#pd.pivot_table(inte, index=\"subId\", columns=\"imgName\", values=\"rating\").to_csv(\"intePiv.csv\")"
   ]
  },
  {
   "cell_type": "markdown",
   "metadata": {},
   "source": [
    "## Trustworthy"
   ]
  },
  {
   "cell_type": "code",
   "execution_count": 36,
   "metadata": {},
   "outputs": [],
   "source": [
    "tru = pd.read_csv(\"../trustworthy/likert_data.csv\")\n",
    "truMod = pd.read_csv(\"../modifae_trustworthy/likert_data.csv\")"
   ]
  },
  {
   "cell_type": "code",
   "execution_count": 37,
   "metadata": {},
   "outputs": [],
   "source": [
    "modIndex = pd.pivot_table(truMod, index=\"subId\", columns=\"imgName\", values=\"rating\").mean(axis=0).index\n",
    "indexNames = []\n",
    "for i in modIndex:\n",
    "    indexNames.append(i.split(\"_\")[0] + \".jpg\")\n",
    "    \n",
    "rawComp = celeb[[\"Filename\", \"trustworthy\"]]\n",
    "rawComp = rawComp.loc[rawComp['Filename'].isin(indexNames)].sort_values(\"Filename\")\n",
    "rawComp.index = rawComp.Filename\n",
    "rawComp = rawComp.drop(\"Filename\", axis=1)\n",
    "\n",
    "modHumData = pd.pivot_table(truMod, index=\"subId\", columns=\"imgName\", values=\"rating\").mean()\n",
    "modHumData.index = indexNames\n",
    "\n",
    "x = pd.concat([rawComp, modHumData], axis=1, join_axes=[rawComp.index])"
   ]
  },
  {
   "cell_type": "code",
   "execution_count": 39,
   "metadata": {},
   "outputs": [
    {
     "data": {
      "text/plain": [
       "(0.48373134166693277, 1.099885679684411e-05)"
      ]
     },
     "execution_count": 39,
     "metadata": {},
     "output_type": "execute_result"
    }
   ],
   "source": [
    "corr(x[0], x.trustworthy)"
   ]
  },
  {
   "cell_type": "code",
   "execution_count": 41,
   "metadata": {},
   "outputs": [
    {
     "data": {
      "image/png": "[encoded data removed]",
      "text/plain": [
       "<Figure size 432x288 with 1 Axes>"
      ]
     },
     "metadata": {
      "needs_background": "light"
     },
     "output_type": "display_data"
    }
   ],
   "source": [
    "plt.scatter(x[0], x.trustworthy)\n",
    "plt.ylabel(\"Computer - raw\")\n",
    "plt.xlabel(\"Human - modified\")\n",
    "plt.title(\"P-Corr: .484, HuMa Trustworthy Rating\")\n",
    "plt.show()"
   ]
  },
  {
   "cell_type": "code",
   "execution_count": null,
   "metadata": {},
   "outputs": [],
   "source": [
    "#selfCorrTru = calcSelfConsistency(tru)\n",
    "#groupCorrTru = calcGroupConsistency(tru)\n",
    "#calcHumMacConsistency(tru, \"trustworthy\")"
   ]
  },
  {
   "cell_type": "code",
   "execution_count": null,
   "metadata": {},
   "outputs": [],
   "source": [
    "\"\"\"\n",
    "fig, ax = plt.subplots()\n",
    "plt.xlabel(\"self\")\n",
    "plt.ylabel(\"group\")\n",
    "plt.title(\"trustworthy\")\n",
    "ax.scatter(selfCorrTru, groupCorrTru)\n",
    "subjs = map(lambda x: x[:4], tru.subId.unique())\n",
    "for i, txt in enumerate(sorted(subjs)):\n",
    "    ax.annotate(txt, (selfCorrTru[i], groupCorrTru))\n",
    "\"\"\""
   ]
  },
  {
   "cell_type": "markdown",
   "metadata": {},
   "source": [
    "### ICC\n",
    "<img src=\"imgs/tru.png\">"
   ]
  },
  {
   "cell_type": "code",
   "execution_count": null,
   "metadata": {},
   "outputs": [],
   "source": [
    "#pd.pivot_table(tru, index=\"subId\", columns=\"imgName\", values=\"rating\").to_csv(\"truPiv.csv\")"
   ]
  }
 ],
 "metadata": {
  "kernelspec": {
   "display_name": "Python 3",
   "language": "python",
   "name": "python3"
  },
  "language_info": {
   "codemirror_mode": {
    "name": "ipython",
    "version": 3
   },
   "file_extension": ".py",
   "mimetype": "text/x-python",
   "name": "python",
   "nbconvert_exporter": "python",
   "pygments_lexer": "ipython3",
   "version": "3.7.0"
  }
 },
 "nbformat": 4,
 "nbformat_minor": 2
}
