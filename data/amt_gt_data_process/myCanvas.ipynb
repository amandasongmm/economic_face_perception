{
 "cells": [
  {
   "cell_type": "code",
   "execution_count": 32,
   "metadata": {
    "collapsed": true
   },
   "outputs": [],
   "source": [
    "import json\n",
    "import pandas as pd\n",
    "import time\n",
    "import numpy as np\n",
    "import scipy.stats\n",
    "import matplotlib.pyplot as plt\n",
    "from scipy.stats import spearmanr\n",
    "import os\n",
    "pd.options.mode.chained_assignment = None \n",
    "%matplotlib inline"
   ]
  },
  {
   "cell_type": "code",
   "execution_count": 76,
   "metadata": {
    "collapsed": true
   },
   "outputs": [],
   "source": [
    "def individual_consistency_check(trait_name, sub_folder_prefix, plot_or_not):\n",
    "    # trait_name = 'attractive' and etc. \n",
    "    # sub_folder_prefix = '' for gt data, = 'modifae_' for modifae data, = 'modifae_new_' for new\n",
    "    if sub_folder_prefix == '':\n",
    "        task_word = 'raw images'\n",
    "    elif sub_folder_prefix == 'modifae_':\n",
    "        task_word = 'modified '\n",
    "    else:\n",
    "        task_word = 'modified new'\n",
    "    \n",
    "    likert_data = pd.read_csv('./'+ sub_folder_prefix + trait_name+'/likert_data.csv')\n",
    "\n",
    "    sub_num_dict = {}\n",
    "    sub_counter = 1\n",
    "    for sub_id in likert_data['subId']:\n",
    "        if sub_id not in sub_num_dict:\n",
    "            sub_num_dict[sub_id] = sub_counter\n",
    "            sub_counter += 1\n",
    "\n",
    "    likert_data['subNum'] = likert_data['subId'].map(sub_num_dict)\n",
    "\n",
    "    img_num_dict = {}\n",
    "    img_counter = 0\n",
    "    for img_name in likert_data['imgName']:\n",
    "        if img_name not in img_num_dict:\n",
    "            img_num_dict[img_name] = img_counter\n",
    "            img_counter += 1\n",
    "\n",
    "    likert_data['imgNum'] = likert_data['imgName'].map(img_num_dict)\n",
    "\n",
    "    likert_data = likert_data.sort_values(by=['subNum', 'imgNum'], ascending=True)\n",
    "    likert_data = likert_data[['subNum', 'imgNum', 'rating', 'rt', 'imgName', 'trial_index']]\n",
    "    likert_data['rating'] = likert_data['rating'].astype(np.int64)\n",
    "    \n",
    "    sub_num = likert_data['subNum'].nunique()\n",
    "\n",
    "    rho_lst = []\n",
    "    p_lst = []\n",
    "    for sub_num in range(1, sub_num+1):\n",
    "        cur_sub_data = likert_data[likert_data['subNum']==sub_num]\n",
    "        cur_sub_data['freq'] = cur_sub_data.groupby('imgNum')['imgNum'].transform('count')\n",
    "        num_rating_used = cur_sub_data['rating'].nunique()\n",
    "\n",
    "        \n",
    "        repeat_lst = cur_sub_data[cur_sub_data['freq']==2]\n",
    "        p = repeat_lst.sort_values(by=['imgNum'])\n",
    "        p1 = p[::2]\n",
    "        p2 = p[1::2]\n",
    "\n",
    "        first_half = p1['rating'].values\n",
    "        second_half = p2['rating'].values\n",
    "        rho, p = spearmanr(first_half, second_half)\n",
    "        if num_rating_used < 3:\n",
    "            print sub_num, trait_name, task_word, num_rating_used, rho\n",
    "        else:\n",
    "            rho_lst.append(rho)\n",
    "            p_lst.append(p)\n",
    "        \n",
    "        if plot_or_not:\n",
    "            unique_coor = sorted(set(zip(first_half, second_half)))\n",
    "            total_coor = list(zip(first_half, second_half))\n",
    "\n",
    "            size = []\n",
    "\n",
    "            for coor in unique_coor:\n",
    "                size.append(total_coor.count(coor))\n",
    "\n",
    "            x_unique_coor, y_unique_coor = zip(*unique_coor)\n",
    "\n",
    "            colors = np.random.rand(len(x_unique_coor))\n",
    "\n",
    "            plt.title('sub' + str(sub_num)+'rho = {:.2f}, p = {:.2f}'.format(rho, p))\n",
    "            plt.xlabel('First repeat')\n",
    "            plt.ylabel('Second repeat')\n",
    "            plt.scatter(x_unique_coor, y_unique_coor, s=np.array(size)*100, alpha=0.5, c=colors)\n",
    "            plt.show()\n",
    "            \n",
    "    rho_array = np.asarray(rho_lst)\n",
    "    p_array = np.asarray(p_lst)\n",
    "    print('{}, {}, sub num = {}, rho ave = {:.2f}, std = {:.2f}'.format(task_word, trait_name, sub_num, rho_array.mean(), rho_array.std()))\n",
    "    \n",
    "    return rho_array, p_array"
   ]
  },
  {
   "cell_type": "code",
   "execution_count": 77,
   "metadata": {},
   "outputs": [
    {
     "name": "stdout",
     "output_type": "stream",
     "text": [
      "raw images, attractive, sub num = 15, rho ave = 0.50, std = 0.45\n",
      "modified , attractive, sub num = 16, rho ave = 0.70, std = 0.34\n",
      "modified new, attractive, sub num = 15, rho ave = 0.61, std = 0.38\n",
      "==========\n",
      "14 aggressive raw images 2 -0.502518907629606\n",
      "raw images, aggressive, sub num = 15, rho ave = 0.38, std = 0.42\n",
      "modified , aggressive, sub num = 15, rho ave = 0.27, std = 0.37\n",
      "modified new, aggressive, sub num = 14, rho ave = 0.39, std = 0.49\n",
      "==========\n",
      "5 trustworthy raw images 2 -0.19191919191919196\n",
      "raw images, trustworthy, sub num = 15, rho ave = 0.27, std = 0.33\n",
      "modified , trustworthy, sub num = 14, rho ave = 0.39, std = 0.37\n",
      "modified new, trustworthy, sub num = 12, rho ave = 0.57, std = 0.43\n",
      "==========\n",
      "13 intelligent raw images 2 0.393939393939394\n",
      "raw images, intelligent, sub num = 15, rho ave = 0.61, std = 0.29\n",
      "1 intelligent modified  1 nan\n",
      "modified , intelligent, sub num = 15, rho ave = 0.45, std = 0.38\n",
      "modified new, intelligent, sub num = 12, rho ave = 0.75, std = 0.25\n",
      "==========\n"
     ]
    }
   ],
   "source": [
    "trait_lst = ['attractive', 'aggressive', 'trustworthy', 'intelligent']\n",
    "img_source_lst = ['', 'modifae_', 'modifae_new_']\n",
    "\n",
    "for cur_trait in trait_lst:\n",
    "    for cur_source in img_source_lst:\n",
    "        individual_consistency_check(cur_trait, cur_source, False)\n",
    "    print('==========')"
   ]
  },
  {
   "cell_type": "code",
   "execution_count": null,
   "metadata": {
    "collapsed": true
   },
   "outputs": [],
   "source": []
  }
 ],
 "metadata": {
  "kernelspec": {
   "display_name": "Python 2",
   "language": "python",
   "name": "python2"
  },
  "language_info": {
   "codemirror_mode": {
    "name": "ipython",
    "version": 2
   },
   "file_extension": ".py",
   "mimetype": "text/x-python",
   "name": "python",
   "nbconvert_exporter": "python",
   "pygments_lexer": "ipython2",
   "version": "2.7.13"
  }
 },
 "nbformat": 4,
 "nbformat_minor": 2
}
