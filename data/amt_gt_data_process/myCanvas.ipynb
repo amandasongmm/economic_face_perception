{
 "cells": [
  {
   "cell_type": "code",
   "execution_count": 1,
   "metadata": {
    "collapsed": true
   },
   "outputs": [],
   "source": [
    "import json\n",
    "import pandas as pd\n",
    "import time\n",
    "import numpy as np\n",
    "import scipy.stats\n",
    "import matplotlib.pyplot as plt\n",
    "from scipy.stats import spearmanr\n",
    "import os"
   ]
  },
  {
   "cell_type": "code",
   "execution_count": 6,
   "metadata": {},
   "outputs": [
    {
     "data": {
      "text/html": [
       "<div>\n",
       "<style scoped>\n",
       "    .dataframe tbody tr th:only-of-type {\n",
       "        vertical-align: middle;\n",
       "    }\n",
       "\n",
       "    .dataframe tbody tr th {\n",
       "        vertical-align: top;\n",
       "    }\n",
       "\n",
       "    .dataframe thead th {\n",
       "        text-align: right;\n",
       "    }\n",
       "</style>\n",
       "<table border=\"1\" class=\"dataframe\">\n",
       "  <thead>\n",
       "    <tr style=\"text-align: right;\">\n",
       "      <th></th>\n",
       "      <th>subId</th>\n",
       "      <th>trialNum</th>\n",
       "      <th>trialId</th>\n",
       "      <th>jsonStr</th>\n",
       "    </tr>\n",
       "  </thead>\n",
       "  <tbody>\n",
       "    <tr>\n",
       "      <th>0</th>\n",
       "      <td>debugGEQMFL:debugSY4EBY</td>\n",
       "      <td>0</td>\n",
       "      <td>1547796015242</td>\n",
       "      <td>{\"rt\": 75735, \"trial_type\": \"instructions\", \"v...</td>\n",
       "    </tr>\n",
       "    <tr>\n",
       "      <th>1</th>\n",
       "      <td>debugGEQMFL:debugSY4EBY</td>\n",
       "      <td>1</td>\n",
       "      <td>1547796070368</td>\n",
       "      <td>{\"rt\": 55124, \"trial_type\": \"face-likert-amand...</td>\n",
       "    </tr>\n",
       "    <tr>\n",
       "      <th>2</th>\n",
       "      <td>debugGEQMFL:debugSY4EBY</td>\n",
       "      <td>2</td>\n",
       "      <td>1547796074058</td>\n",
       "      <td>{\"rt\": 3688, \"trial_type\": \"face-likert-amanda...</td>\n",
       "    </tr>\n",
       "    <tr>\n",
       "      <th>3</th>\n",
       "      <td>debugGEQMFL:debugSY4EBY</td>\n",
       "      <td>3</td>\n",
       "      <td>1547796077351</td>\n",
       "      <td>{\"rt\": 3291, \"trial_type\": \"face-likert-amanda...</td>\n",
       "    </tr>\n",
       "    <tr>\n",
       "      <th>4</th>\n",
       "      <td>debugGEQMFL:debugSY4EBY</td>\n",
       "      <td>4</td>\n",
       "      <td>1547796079549</td>\n",
       "      <td>{\"rt\": 2195, \"trial_type\": \"face-likert-amanda...</td>\n",
       "    </tr>\n",
       "  </tbody>\n",
       "</table>\n",
       "</div>"
      ],
      "text/plain": [
       "                     subId  trialNum        trialId  \\\n",
       "0  debugGEQMFL:debugSY4EBY         0  1547796015242   \n",
       "1  debugGEQMFL:debugSY4EBY         1  1547796070368   \n",
       "2  debugGEQMFL:debugSY4EBY         2  1547796074058   \n",
       "3  debugGEQMFL:debugSY4EBY         3  1547796077351   \n",
       "4  debugGEQMFL:debugSY4EBY         4  1547796079549   \n",
       "\n",
       "                                             jsonStr  \n",
       "0  {\"rt\": 75735, \"trial_type\": \"instructions\", \"v...  \n",
       "1  {\"rt\": 55124, \"trial_type\": \"face-likert-amand...  \n",
       "2  {\"rt\": 3688, \"trial_type\": \"face-likert-amanda...  \n",
       "3  {\"rt\": 3291, \"trial_type\": \"face-likert-amanda...  \n",
       "4  {\"rt\": 2195, \"trial_type\": \"face-likert-amanda...  "
      ]
     },
     "execution_count": 6,
     "metadata": {},
     "output_type": "execute_result"
    }
   ],
   "source": [
    "trait_name = 'attractive'\n",
    "trial_csv = './'+trait_name+'/trialdata.csv'\n",
    "column_names = [\"subId\", \"trialNum\", \"trialId\", \"jsonStr\"]\n",
    "trial = pd.read_csv(trial_csv, names=column_names, header=None)\n",
    "trial.head()"
   ]
  },
  {
   "cell_type": "code",
   "execution_count": 10,
   "metadata": {},
   "outputs": [],
   "source": [
    "import os\n",
    "likert_data_df = pd.DataFrame(columns=['subId', 'rt', 'imgName', 'rating', 'trial_index', 'debug_mode'])\n",
    "likert_counter = 0\n",
    "\n",
    "for index, row in trial.iterrows():\n",
    "    json_dict = json.loads(row['jsonStr'])\n",
    "    if 'task_type' in json_dict:\n",
    "        if json_dict['task_type'] == 'face trials':\n",
    "            likert_data_df.loc[likert_counter, 'subId'] = row['subId']\n",
    "            likert_data_df.loc[likert_counter, 'rt'] = json_dict['rt']\n",
    "            likert_data_df.loc[likert_counter, 'imgName'] = os.path.basename(json_dict['imgName'])\n",
    "            \n",
    "            likert_data_df.loc[likert_counter, 'trial_index'] = json_dict['trial_index']\n",
    "            # rating encoding starts from 0, add 1 to go back to 1-9 space\n",
    "            likert_data_df.loc[likert_counter, 'rating'] = json.loads(json_dict['responses'])['Q0'] + 1\n",
    "            likert_data_df.loc[likert_counter, 'debug_mode'] = json_dict['debug_mode']\n",
    "            likert_counter += 1\n",
    "        \n",
    "likert_data_df.to_csv('./'+trait_name+'/likert_data.csv')"
   ]
  },
  {
   "cell_type": "code",
   "execution_count": 12,
   "metadata": {},
   "outputs": [
    {
     "data": {
      "text/plain": [
       "(120, 6)"
      ]
     },
     "execution_count": 12,
     "metadata": {},
     "output_type": "execute_result"
    }
   ],
   "source": [
    "likert_data_df.shape"
   ]
  },
  {
   "cell_type": "code",
   "execution_count": null,
   "metadata": {
    "collapsed": true
   },
   "outputs": [],
   "source": [
    "# make a list for subjects\n",
    "sub_num_dict = {}\n",
    "sub_counter = 1\n",
    "for sub_id in likert_data_df['subId']:\n",
    "    if sub_id not in sub_num_dict:\n",
    "        sub_num_dict[sub_id] = sub_counter\n",
    "        sub_counter += 1\n",
    "\n",
    "likert_data_df['subNum'] = likert_data_df['subId'].map(sub_num_dict)\n"
   ]
  }
 ],
 "metadata": {
  "kernelspec": {
   "display_name": "Python 2",
   "language": "python",
   "name": "python2"
  },
  "language_info": {
   "codemirror_mode": {
    "name": "ipython",
    "version": 2
   },
   "file_extension": ".py",
   "mimetype": "text/x-python",
   "name": "python",
   "nbconvert_exporter": "python",
   "pygments_lexer": "ipython2",
   "version": "2.7.13"
  }
 },
 "nbformat": 4,
 "nbformat_minor": 2
}
