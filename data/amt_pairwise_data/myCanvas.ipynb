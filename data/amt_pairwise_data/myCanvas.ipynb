{
 "cells": [
  {
   "cell_type": "code",
   "execution_count": 2,
   "metadata": {
    "collapsed": true
   },
   "outputs": [],
   "source": [
    "import json\n",
    "import pandas as pd\n",
    "import numpy as np\n",
    "import matplotlib.pyplot as plt\n",
    "from scipy.stats import spearmanr\n",
    "import os\n",
    "import os.path\n",
    "import shutil\n",
    "from __future__ import division"
   ]
  },
  {
   "cell_type": "code",
   "execution_count": 8,
   "metadata": {
    "collapsed": true
   },
   "outputs": [],
   "source": [
    "def cal_acc(task_type, trait_name, high_low_type):\n",
    "    # move experiment data from pt_dir to a specific folder specified by task config params.\n",
    "\n",
    "    sub_folder_name = './' + task_type + '/' + trait_name + '-' + high_low_type + '/'\n",
    "    pair_data_csv = sub_folder_name + 'pair_data.csv'\n",
    "\n",
    "    pair_data = pd.read_csv(pair_data_csv)\n",
    "    \n",
    "    gt_df = pair_data[pair_data['task_type']=='gt']\n",
    "    gt_acc = (gt_df['correct']==True).sum() / len(gt_df)\n",
    "    \n",
    "    data_df = pair_data[pair_data['task_type']=='modifae']\n",
    "    data_acc = (data_df['correct']==True).sum() / len(data_df)\n",
    "    \n",
    "    print(task_type, trait_name, high_low_type)\n",
    "    print('gt acc = {}, data acc = {}'.format(gt_acc, data_acc))"
   ]
  },
  {
   "cell_type": "code",
   "execution_count": 9,
   "metadata": {},
   "outputs": [
    {
     "name": "stdout",
     "output_type": "stream",
     "text": [
      "('modifae', 'aggressive', 'low-high')\n",
      "gt acc = 0.66875, data acc = 0.640277777778\n"
     ]
    }
   ],
   "source": [
    "task_type = 'modifae'\n",
    "trait_name = 'aggressive'\n",
    "high_low_type = 'low-high'\n",
    "cal_acc(task_type, trait_name, high_low_type)\n"
   ]
  },
  {
   "cell_type": "code",
   "execution_count": null,
   "metadata": {
    "collapsed": true
   },
   "outputs": [],
   "source": [
    "task_type = 'stargan'\n",
    "trait_name = 'aggressive'\n",
    "high_low_type = 'low-high'\n",
    "cal_acc(task_type, trait_name, high_low_type)"
   ]
  }
 ],
 "metadata": {
  "kernelspec": {
   "display_name": "Python 2",
   "language": "python",
   "name": "python2"
  },
  "language_info": {
   "codemirror_mode": {
    "name": "ipython",
    "version": 2
   },
   "file_extension": ".py",
   "mimetype": "text/x-python",
   "name": "python",
   "nbconvert_exporter": "python",
   "pygments_lexer": "ipython2",
   "version": "2.7.13"
  }
 },
 "nbformat": 4,
 "nbformat_minor": 2
}
