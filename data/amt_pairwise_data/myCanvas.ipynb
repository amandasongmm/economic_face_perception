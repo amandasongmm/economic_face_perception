{
 "cells": [
  {
   "cell_type": "code",
   "execution_count": 1,
   "metadata": {
    "collapsed": true
   },
   "outputs": [],
   "source": [
    "import json\n",
    "import pandas as pd\n",
    "import numpy as np\n",
    "import matplotlib.pyplot as plt\n",
    "from scipy.stats import spearmanr\n",
    "import os\n",
    "import os.path\n",
    "import shutil"
   ]
  },
  {
   "cell_type": "code",
   "execution_count": 2,
   "metadata": {
    "collapsed": true
   },
   "outputs": [],
   "source": [
    "task_type = 'modifae'\n",
    "trait_name = 'attractive'\n",
    "high_low_type = 'low-high'\n",
    "\n",
    "# move experiment data from pt_dir to a specific folder specified by task config params.\n",
    "\n",
    "sub_folder_name = './' + task_type + '/' + trait_name + '-' + high_low_type + '/'\n",
    "pair_data_csv = sub_folder_name + 'pair_data.csv'\n",
    "\n",
    "pair_data = pd.read_csv(pair_data_csv)"
   ]
  },
  {
   "cell_type": "code",
   "execution_count": 4,
   "metadata": {},
   "outputs": [
    {
     "data": {
      "text/html": [
       "<div>\n",
       "<style scoped>\n",
       "    .dataframe tbody tr th:only-of-type {\n",
       "        vertical-align: middle;\n",
       "    }\n",
       "\n",
       "    .dataframe tbody tr th {\n",
       "        vertical-align: top;\n",
       "    }\n",
       "\n",
       "    .dataframe thead th {\n",
       "        text-align: right;\n",
       "    }\n",
       "</style>\n",
       "<table border=\"1\" class=\"dataframe\">\n",
       "  <thead>\n",
       "    <tr style=\"text-align: right;\">\n",
       "      <th></th>\n",
       "      <th>Unnamed: 0</th>\n",
       "      <th>subId</th>\n",
       "      <th>rt</th>\n",
       "      <th>im1</th>\n",
       "      <th>im2</th>\n",
       "      <th>response</th>\n",
       "      <th>low_first</th>\n",
       "      <th>repeat</th>\n",
       "      <th>task_type</th>\n",
       "      <th>correct</th>\n",
       "    </tr>\n",
       "  </thead>\n",
       "  <tbody>\n",
       "    <tr>\n",
       "      <th>0</th>\n",
       "      <td>0</td>\n",
       "      <td>A1U5BE8XJRXKW3:39LNWE0K4W3V3CQ1QCE1S7F8LJ6IUV</td>\n",
       "      <td>3482</td>\n",
       "      <td>/static/images/modifae_pairwise/attractive/136...</td>\n",
       "      <td>/static/images/modifae_pairwise/attractive/136...</td>\n",
       "      <td>right</td>\n",
       "      <td>1</td>\n",
       "      <td>0</td>\n",
       "      <td>modifae</td>\n",
       "      <td>True</td>\n",
       "    </tr>\n",
       "    <tr>\n",
       "      <th>1</th>\n",
       "      <td>1</td>\n",
       "      <td>A1U5BE8XJRXKW3:39LNWE0K4W3V3CQ1QCE1S7F8LJ6IUV</td>\n",
       "      <td>2951</td>\n",
       "      <td>/static/images/modifae_pairwise/attractive/136...</td>\n",
       "      <td>/static/images/modifae_pairwise/attractive/136...</td>\n",
       "      <td>left</td>\n",
       "      <td>0</td>\n",
       "      <td>0</td>\n",
       "      <td>modifae</td>\n",
       "      <td>True</td>\n",
       "    </tr>\n",
       "    <tr>\n",
       "      <th>2</th>\n",
       "      <td>2</td>\n",
       "      <td>A1U5BE8XJRXKW3:39LNWE0K4W3V3CQ1QCE1S7F8LJ6IUV</td>\n",
       "      <td>2910</td>\n",
       "      <td>/static/images/modifae_pairwise/attractive/136...</td>\n",
       "      <td>/static/images/modifae_pairwise/attractive/136...</td>\n",
       "      <td>left</td>\n",
       "      <td>0</td>\n",
       "      <td>0</td>\n",
       "      <td>modifae</td>\n",
       "      <td>True</td>\n",
       "    </tr>\n",
       "    <tr>\n",
       "      <th>3</th>\n",
       "      <td>3</td>\n",
       "      <td>A1U5BE8XJRXKW3:39LNWE0K4W3V3CQ1QCE1S7F8LJ6IUV</td>\n",
       "      <td>3033</td>\n",
       "      <td>/static/images/modifae_pairwise/attractive/136...</td>\n",
       "      <td>/static/images/modifae_pairwise/attractive/136...</td>\n",
       "      <td>left</td>\n",
       "      <td>0</td>\n",
       "      <td>0</td>\n",
       "      <td>gt</td>\n",
       "      <td>True</td>\n",
       "    </tr>\n",
       "    <tr>\n",
       "      <th>4</th>\n",
       "      <td>4</td>\n",
       "      <td>A1U5BE8XJRXKW3:39LNWE0K4W3V3CQ1QCE1S7F8LJ6IUV</td>\n",
       "      <td>3430</td>\n",
       "      <td>/static/images/modifae_pairwise/attractive/136...</td>\n",
       "      <td>/static/images/modifae_pairwise/attractive/136...</td>\n",
       "      <td>left</td>\n",
       "      <td>1</td>\n",
       "      <td>0</td>\n",
       "      <td>modifae</td>\n",
       "      <td>False</td>\n",
       "    </tr>\n",
       "  </tbody>\n",
       "</table>\n",
       "</div>"
      ],
      "text/plain": [
       "   Unnamed: 0                                          subId    rt  \\\n",
       "0           0  A1U5BE8XJRXKW3:39LNWE0K4W3V3CQ1QCE1S7F8LJ6IUV  3482   \n",
       "1           1  A1U5BE8XJRXKW3:39LNWE0K4W3V3CQ1QCE1S7F8LJ6IUV  2951   \n",
       "2           2  A1U5BE8XJRXKW3:39LNWE0K4W3V3CQ1QCE1S7F8LJ6IUV  2910   \n",
       "3           3  A1U5BE8XJRXKW3:39LNWE0K4W3V3CQ1QCE1S7F8LJ6IUV  3033   \n",
       "4           4  A1U5BE8XJRXKW3:39LNWE0K4W3V3CQ1QCE1S7F8LJ6IUV  3430   \n",
       "\n",
       "                                                 im1  \\\n",
       "0  /static/images/modifae_pairwise/attractive/136...   \n",
       "1  /static/images/modifae_pairwise/attractive/136...   \n",
       "2  /static/images/modifae_pairwise/attractive/136...   \n",
       "3  /static/images/modifae_pairwise/attractive/136...   \n",
       "4  /static/images/modifae_pairwise/attractive/136...   \n",
       "\n",
       "                                                 im2 response  low_first  \\\n",
       "0  /static/images/modifae_pairwise/attractive/136...    right          1   \n",
       "1  /static/images/modifae_pairwise/attractive/136...     left          0   \n",
       "2  /static/images/modifae_pairwise/attractive/136...     left          0   \n",
       "3  /static/images/modifae_pairwise/attractive/136...     left          0   \n",
       "4  /static/images/modifae_pairwise/attractive/136...     left          1   \n",
       "\n",
       "   repeat task_type  correct  \n",
       "0       0   modifae     True  \n",
       "1       0   modifae     True  \n",
       "2       0   modifae     True  \n",
       "3       0        gt     True  \n",
       "4       0   modifae    False  "
      ]
     },
     "execution_count": 4,
     "metadata": {},
     "output_type": "execute_result"
    }
   ],
   "source": [
    "pair_data.head()"
   ]
  },
  {
   "cell_type": "code",
   "execution_count": 13,
   "metadata": {},
   "outputs": [
    {
     "data": {
      "text/plain": [
       "848"
      ]
     },
     "execution_count": 13,
     "metadata": {},
     "output_type": "execute_result"
    }
   ],
   "source": [
    "(pair_data[pair_data['task_type']=='modifae']['correct']==True).sum()"
   ]
  },
  {
   "cell_type": "code",
   "execution_count": 14,
   "metadata": {},
   "outputs": [
    {
     "data": {
      "text/plain": [
       "0.6730158730158731"
      ]
     },
     "execution_count": 14,
     "metadata": {},
     "output_type": "execute_result"
    }
   ],
   "source": [
    "848/1260."
   ]
  },
  {
   "cell_type": "code",
   "execution_count": 15,
   "metadata": {
    "collapsed": true
   },
   "outputs": [],
   "source": [
    "sub_num_dict = {}\n",
    "sub_counter = 1\n",
    "for sub_id in pair_data['subId']:\n",
    "    if sub_id not in sub_num_dict:\n",
    "        sub_num_dict[sub_id] = sub_counter\n",
    "        sub_counter += 1\n",
    "        \n",
    "pair_data['subNum'] = pair_data['subId'].map(sub_num_dict)"
   ]
  },
  {
   "cell_type": "code",
   "execution_count": 16,
   "metadata": {
    "collapsed": true
   },
   "outputs": [],
   "source": [
    "img_num_dict = {}\n",
    "img_counter = 0\n",
    "for img_name in pair_data['im1']:\n",
    "    if img_name not in img_num_dict:\n",
    "        img_num_dict[img_name] = img_counter\n",
    "        img_counter += 1\n",
    "        \n",
    "pair_data['img1Num'] = pair_data['im1'].map(img_num_dict)"
   ]
  },
  {
   "cell_type": "code",
   "execution_count": 17,
   "metadata": {
    "collapsed": true
   },
   "outputs": [],
   "source": [
    "pair_data = pair_data[['subNum', 'img1Num', 'correct', 'repeat', 'task_type']]"
   ]
  },
  {
   "cell_type": "code",
   "execution_count": 18,
   "metadata": {},
   "outputs": [
    {
     "data": {
      "text/html": [
       "<div>\n",
       "<style scoped>\n",
       "    .dataframe tbody tr th:only-of-type {\n",
       "        vertical-align: middle;\n",
       "    }\n",
       "\n",
       "    .dataframe tbody tr th {\n",
       "        vertical-align: top;\n",
       "    }\n",
       "\n",
       "    .dataframe thead th {\n",
       "        text-align: right;\n",
       "    }\n",
       "</style>\n",
       "<table border=\"1\" class=\"dataframe\">\n",
       "  <thead>\n",
       "    <tr style=\"text-align: right;\">\n",
       "      <th></th>\n",
       "      <th>subNum</th>\n",
       "      <th>img1Num</th>\n",
       "      <th>correct</th>\n",
       "      <th>repeat</th>\n",
       "      <th>task_type</th>\n",
       "    </tr>\n",
       "  </thead>\n",
       "  <tbody>\n",
       "    <tr>\n",
       "      <th>0</th>\n",
       "      <td>1</td>\n",
       "      <td>0</td>\n",
       "      <td>True</td>\n",
       "      <td>0</td>\n",
       "      <td>modifae</td>\n",
       "    </tr>\n",
       "    <tr>\n",
       "      <th>1</th>\n",
       "      <td>1</td>\n",
       "      <td>1</td>\n",
       "      <td>True</td>\n",
       "      <td>0</td>\n",
       "      <td>modifae</td>\n",
       "    </tr>\n",
       "    <tr>\n",
       "      <th>2</th>\n",
       "      <td>1</td>\n",
       "      <td>2</td>\n",
       "      <td>True</td>\n",
       "      <td>0</td>\n",
       "      <td>modifae</td>\n",
       "    </tr>\n",
       "    <tr>\n",
       "      <th>3</th>\n",
       "      <td>1</td>\n",
       "      <td>3</td>\n",
       "      <td>True</td>\n",
       "      <td>0</td>\n",
       "      <td>gt</td>\n",
       "    </tr>\n",
       "    <tr>\n",
       "      <th>4</th>\n",
       "      <td>1</td>\n",
       "      <td>4</td>\n",
       "      <td>False</td>\n",
       "      <td>0</td>\n",
       "      <td>modifae</td>\n",
       "    </tr>\n",
       "  </tbody>\n",
       "</table>\n",
       "</div>"
      ],
      "text/plain": [
       "   subNum  img1Num  correct  repeat task_type\n",
       "0       1        0     True       0   modifae\n",
       "1       1        1     True       0   modifae\n",
       "2       1        2     True       0   modifae\n",
       "3       1        3     True       0        gt\n",
       "4       1        4    False       0   modifae"
      ]
     },
     "execution_count": 18,
     "metadata": {},
     "output_type": "execute_result"
    }
   ],
   "source": [
    "pair_data.head()"
   ]
  },
  {
   "cell_type": "code",
   "execution_count": 23,
   "metadata": {},
   "outputs": [
    {
     "name": "stderr",
     "output_type": "stream",
     "text": [
      "/usr/local/lib/python2.7/site-packages/ipykernel_launcher.py:5: SettingWithCopyWarning: \n",
      "A value is trying to be set on a copy of a slice from a DataFrame.\n",
      "Try using .loc[row_indexer,col_indexer] = value instead\n",
      "\n",
      "See the caveats in the documentation: http://pandas.pydata.org/pandas-docs/stable/indexing.html#indexing-view-versus-copy\n",
      "  \"\"\"\n"
     ]
    }
   ],
   "source": [
    "acc_lst = []\n",
    "\n",
    "for sub_num in range(1, pair_data['subNum'].nunique()+1):\n",
    "    cur_sub_data = pair_data[pair_data['subNum']==sub_num]\n",
    "    cur_sub_data['freq'] = cur_sub_data.groupby('img1Num')['img1Num'].transform('count')\n",
    "    repeat_lst = cur_sub_data[cur_sub_data['freq']==2]\n",
    "    p = repeat_lst.sort_values(by=['img1Num'])\n",
    "    p1 = p[::2]\n",
    "    p2 = p[1::2]\n",
    "    \n",
    "    "
   ]
  },
  {
   "cell_type": "code",
   "execution_count": 26,
   "metadata": {},
   "outputs": [
    {
     "data": {
      "text/html": [
       "<div>\n",
       "<style scoped>\n",
       "    .dataframe tbody tr th:only-of-type {\n",
       "        vertical-align: middle;\n",
       "    }\n",
       "\n",
       "    .dataframe tbody tr th {\n",
       "        vertical-align: top;\n",
       "    }\n",
       "\n",
       "    .dataframe thead th {\n",
       "        text-align: right;\n",
       "    }\n",
       "</style>\n",
       "<table border=\"1\" class=\"dataframe\">\n",
       "  <thead>\n",
       "    <tr style=\"text-align: right;\">\n",
       "      <th></th>\n",
       "      <th>subNum</th>\n",
       "      <th>img1Num</th>\n",
       "      <th>correct</th>\n",
       "      <th>repeat</th>\n",
       "      <th>task_type</th>\n",
       "      <th>freq</th>\n",
       "    </tr>\n",
       "  </thead>\n",
       "  <tbody>\n",
       "    <tr>\n",
       "      <th>1329</th>\n",
       "      <td>14</td>\n",
       "      <td>16</td>\n",
       "      <td>False</td>\n",
       "      <td>0</td>\n",
       "      <td>modifae</td>\n",
       "      <td>2</td>\n",
       "    </tr>\n",
       "    <tr>\n",
       "      <th>1334</th>\n",
       "      <td>14</td>\n",
       "      <td>40</td>\n",
       "      <td>True</td>\n",
       "      <td>0</td>\n",
       "      <td>gt</td>\n",
       "      <td>2</td>\n",
       "    </tr>\n",
       "    <tr>\n",
       "      <th>1335</th>\n",
       "      <td>14</td>\n",
       "      <td>87</td>\n",
       "      <td>True</td>\n",
       "      <td>1</td>\n",
       "      <td>modifae</td>\n",
       "      <td>2</td>\n",
       "    </tr>\n",
       "    <tr>\n",
       "      <th>1338</th>\n",
       "      <td>14</td>\n",
       "      <td>87</td>\n",
       "      <td>True</td>\n",
       "      <td>0</td>\n",
       "      <td>modifae</td>\n",
       "      <td>2</td>\n",
       "    </tr>\n",
       "    <tr>\n",
       "      <th>1339</th>\n",
       "      <td>14</td>\n",
       "      <td>37</td>\n",
       "      <td>True</td>\n",
       "      <td>0</td>\n",
       "      <td>modifae</td>\n",
       "      <td>2</td>\n",
       "    </tr>\n",
       "    <tr>\n",
       "      <th>1342</th>\n",
       "      <td>14</td>\n",
       "      <td>20</td>\n",
       "      <td>False</td>\n",
       "      <td>1</td>\n",
       "      <td>modifae</td>\n",
       "      <td>2</td>\n",
       "    </tr>\n",
       "    <tr>\n",
       "      <th>1352</th>\n",
       "      <td>14</td>\n",
       "      <td>16</td>\n",
       "      <td>False</td>\n",
       "      <td>0</td>\n",
       "      <td>modifae</td>\n",
       "      <td>2</td>\n",
       "    </tr>\n",
       "    <tr>\n",
       "      <th>1356</th>\n",
       "      <td>14</td>\n",
       "      <td>37</td>\n",
       "      <td>True</td>\n",
       "      <td>0</td>\n",
       "      <td>modifae</td>\n",
       "      <td>2</td>\n",
       "    </tr>\n",
       "    <tr>\n",
       "      <th>1369</th>\n",
       "      <td>14</td>\n",
       "      <td>40</td>\n",
       "      <td>True</td>\n",
       "      <td>0</td>\n",
       "      <td>modifae</td>\n",
       "      <td>2</td>\n",
       "    </tr>\n",
       "    <tr>\n",
       "      <th>1375</th>\n",
       "      <td>14</td>\n",
       "      <td>20</td>\n",
       "      <td>False</td>\n",
       "      <td>0</td>\n",
       "      <td>modifae</td>\n",
       "      <td>2</td>\n",
       "    </tr>\n",
       "  </tbody>\n",
       "</table>\n",
       "</div>"
      ],
      "text/plain": [
       "      subNum  img1Num  correct  repeat task_type  freq\n",
       "1329      14       16    False       0   modifae     2\n",
       "1334      14       40     True       0        gt     2\n",
       "1335      14       87     True       1   modifae     2\n",
       "1338      14       87     True       0   modifae     2\n",
       "1339      14       37     True       0   modifae     2\n",
       "1342      14       20    False       1   modifae     2\n",
       "1352      14       16    False       0   modifae     2\n",
       "1356      14       37     True       0   modifae     2\n",
       "1369      14       40     True       0   modifae     2\n",
       "1375      14       20    False       0   modifae     2"
      ]
     },
     "execution_count": 26,
     "metadata": {},
     "output_type": "execute_result"
    }
   ],
   "source": [
    "repeat_lst"
   ]
  },
  {
   "cell_type": "code",
   "execution_count": 25,
   "metadata": {},
   "outputs": [
    {
     "data": {
      "text/html": [
       "<div>\n",
       "<style scoped>\n",
       "    .dataframe tbody tr th:only-of-type {\n",
       "        vertical-align: middle;\n",
       "    }\n",
       "\n",
       "    .dataframe tbody tr th {\n",
       "        vertical-align: top;\n",
       "    }\n",
       "\n",
       "    .dataframe thead th {\n",
       "        text-align: right;\n",
       "    }\n",
       "</style>\n",
       "<table border=\"1\" class=\"dataframe\">\n",
       "  <thead>\n",
       "    <tr style=\"text-align: right;\">\n",
       "      <th></th>\n",
       "      <th>subNum</th>\n",
       "      <th>img1Num</th>\n",
       "      <th>correct</th>\n",
       "      <th>repeat</th>\n",
       "      <th>task_type</th>\n",
       "      <th>freq</th>\n",
       "    </tr>\n",
       "  </thead>\n",
       "  <tbody>\n",
       "    <tr>\n",
       "      <th>1352</th>\n",
       "      <td>14</td>\n",
       "      <td>16</td>\n",
       "      <td>False</td>\n",
       "      <td>0</td>\n",
       "      <td>modifae</td>\n",
       "      <td>2</td>\n",
       "    </tr>\n",
       "    <tr>\n",
       "      <th>1375</th>\n",
       "      <td>14</td>\n",
       "      <td>20</td>\n",
       "      <td>False</td>\n",
       "      <td>0</td>\n",
       "      <td>modifae</td>\n",
       "      <td>2</td>\n",
       "    </tr>\n",
       "    <tr>\n",
       "      <th>1356</th>\n",
       "      <td>14</td>\n",
       "      <td>37</td>\n",
       "      <td>True</td>\n",
       "      <td>0</td>\n",
       "      <td>modifae</td>\n",
       "      <td>2</td>\n",
       "    </tr>\n",
       "    <tr>\n",
       "      <th>1369</th>\n",
       "      <td>14</td>\n",
       "      <td>40</td>\n",
       "      <td>True</td>\n",
       "      <td>0</td>\n",
       "      <td>modifae</td>\n",
       "      <td>2</td>\n",
       "    </tr>\n",
       "    <tr>\n",
       "      <th>1338</th>\n",
       "      <td>14</td>\n",
       "      <td>87</td>\n",
       "      <td>True</td>\n",
       "      <td>0</td>\n",
       "      <td>modifae</td>\n",
       "      <td>2</td>\n",
       "    </tr>\n",
       "  </tbody>\n",
       "</table>\n",
       "</div>"
      ],
      "text/plain": [
       "      subNum  img1Num  correct  repeat task_type  freq\n",
       "1352      14       16    False       0   modifae     2\n",
       "1375      14       20    False       0   modifae     2\n",
       "1356      14       37     True       0   modifae     2\n",
       "1369      14       40     True       0   modifae     2\n",
       "1338      14       87     True       0   modifae     2"
      ]
     },
     "execution_count": 25,
     "metadata": {},
     "output_type": "execute_result"
    }
   ],
   "source": [
    "p2"
   ]
  },
  {
   "cell_type": "code",
   "execution_count": 2,
   "metadata": {},
   "outputs": [],
   "source": [
    "import pandas as pd\n",
    "task_type = 'stargan'\n",
    "trait_name = 'attractive'\n",
    "high_low_type = 'low-high'\n",
    "\n",
    "# move experiment data from pt_dir to a specific folder specified by task config params.\n",
    "\n",
    "sub_folder_name = './' + task_type + '/' + trait_name + '-' + high_low_type + '/'\n",
    "pair_data_csv = sub_folder_name + 'pair_data.csv'\n",
    "\n",
    "pair_data = pd.read_csv(pair_data_csv)"
   ]
  },
  {
   "cell_type": "code",
   "execution_count": 3,
   "metadata": {},
   "outputs": [
    {
     "data": {
      "text/html": [
       "<div>\n",
       "<style scoped>\n",
       "    .dataframe tbody tr th:only-of-type {\n",
       "        vertical-align: middle;\n",
       "    }\n",
       "\n",
       "    .dataframe tbody tr th {\n",
       "        vertical-align: top;\n",
       "    }\n",
       "\n",
       "    .dataframe thead th {\n",
       "        text-align: right;\n",
       "    }\n",
       "</style>\n",
       "<table border=\"1\" class=\"dataframe\">\n",
       "  <thead>\n",
       "    <tr style=\"text-align: right;\">\n",
       "      <th></th>\n",
       "      <th>Unnamed: 0</th>\n",
       "      <th>subId</th>\n",
       "      <th>rt</th>\n",
       "      <th>im1</th>\n",
       "      <th>im2</th>\n",
       "      <th>response</th>\n",
       "      <th>low_first</th>\n",
       "      <th>repeat</th>\n",
       "      <th>task_type</th>\n",
       "      <th>correct</th>\n",
       "    </tr>\n",
       "  </thead>\n",
       "  <tbody>\n",
       "    <tr>\n",
       "      <th>0</th>\n",
       "      <td>0</td>\n",
       "      <td>A22UZT41I9G9NL:3EFE17QCRECFS4NDVP1GDUW50BCHSV</td>\n",
       "      <td>5589</td>\n",
       "      <td>/static/images/stargan_pairwise/stargan_61attr...</td>\n",
       "      <td>/static/images/stargan_pairwise/stargan_61attr...</td>\n",
       "      <td>right</td>\n",
       "      <td>1</td>\n",
       "      <td>0</td>\n",
       "      <td>stargan</td>\n",
       "      <td>True</td>\n",
       "    </tr>\n",
       "    <tr>\n",
       "      <th>1</th>\n",
       "      <td>1</td>\n",
       "      <td>A22UZT41I9G9NL:3EFE17QCRECFS4NDVP1GDUW50BCHSV</td>\n",
       "      <td>2775</td>\n",
       "      <td>/static/images/stargan_pairwise/stargan_20attr...</td>\n",
       "      <td>/static/images/stargan_pairwise/stargan_20attr...</td>\n",
       "      <td>left</td>\n",
       "      <td>1</td>\n",
       "      <td>1</td>\n",
       "      <td>stargan</td>\n",
       "      <td>False</td>\n",
       "    </tr>\n",
       "    <tr>\n",
       "      <th>2</th>\n",
       "      <td>2</td>\n",
       "      <td>A22UZT41I9G9NL:3EFE17QCRECFS4NDVP1GDUW50BCHSV</td>\n",
       "      <td>2675</td>\n",
       "      <td>/static/images/stargan_pairwise/stargan_22attr...</td>\n",
       "      <td>/static/images/stargan_pairwise/stargan_22attr...</td>\n",
       "      <td>right</td>\n",
       "      <td>1</td>\n",
       "      <td>0</td>\n",
       "      <td>stargan</td>\n",
       "      <td>True</td>\n",
       "    </tr>\n",
       "    <tr>\n",
       "      <th>3</th>\n",
       "      <td>3</td>\n",
       "      <td>A22UZT41I9G9NL:3EFE17QCRECFS4NDVP1GDUW50BCHSV</td>\n",
       "      <td>3363</td>\n",
       "      <td>/static/images/stargan_pairwise/stargan_65attr...</td>\n",
       "      <td>/static/images/stargan_pairwise/stargan_65attr...</td>\n",
       "      <td>left</td>\n",
       "      <td>0</td>\n",
       "      <td>0</td>\n",
       "      <td>stargan</td>\n",
       "      <td>True</td>\n",
       "    </tr>\n",
       "    <tr>\n",
       "      <th>4</th>\n",
       "      <td>4</td>\n",
       "      <td>A22UZT41I9G9NL:3EFE17QCRECFS4NDVP1GDUW50BCHSV</td>\n",
       "      <td>7105</td>\n",
       "      <td>/static/images/gt_pairwise/attractive-low-1.png</td>\n",
       "      <td>/static/images/gt_pairwise/attractive-high-1.png</td>\n",
       "      <td>right</td>\n",
       "      <td>1</td>\n",
       "      <td>0</td>\n",
       "      <td>gt</td>\n",
       "      <td>True</td>\n",
       "    </tr>\n",
       "  </tbody>\n",
       "</table>\n",
       "</div>"
      ],
      "text/plain": [
       "   Unnamed: 0                                          subId    rt  \\\n",
       "0           0  A22UZT41I9G9NL:3EFE17QCRECFS4NDVP1GDUW50BCHSV  5589   \n",
       "1           1  A22UZT41I9G9NL:3EFE17QCRECFS4NDVP1GDUW50BCHSV  2775   \n",
       "2           2  A22UZT41I9G9NL:3EFE17QCRECFS4NDVP1GDUW50BCHSV  2675   \n",
       "3           3  A22UZT41I9G9NL:3EFE17QCRECFS4NDVP1GDUW50BCHSV  3363   \n",
       "4           4  A22UZT41I9G9NL:3EFE17QCRECFS4NDVP1GDUW50BCHSV  7105   \n",
       "\n",
       "                                                 im1  \\\n",
       "0  /static/images/stargan_pairwise/stargan_61attr...   \n",
       "1  /static/images/stargan_pairwise/stargan_20attr...   \n",
       "2  /static/images/stargan_pairwise/stargan_22attr...   \n",
       "3  /static/images/stargan_pairwise/stargan_65attr...   \n",
       "4    /static/images/gt_pairwise/attractive-low-1.png   \n",
       "\n",
       "                                                 im2 response  low_first  \\\n",
       "0  /static/images/stargan_pairwise/stargan_61attr...    right          1   \n",
       "1  /static/images/stargan_pairwise/stargan_20attr...     left          1   \n",
       "2  /static/images/stargan_pairwise/stargan_22attr...    right          1   \n",
       "3  /static/images/stargan_pairwise/stargan_65attr...     left          0   \n",
       "4   /static/images/gt_pairwise/attractive-high-1.png    right          1   \n",
       "\n",
       "   repeat task_type  correct  \n",
       "0       0   stargan     True  \n",
       "1       1   stargan    False  \n",
       "2       0   stargan     True  \n",
       "3       0   stargan     True  \n",
       "4       0        gt     True  "
      ]
     },
     "execution_count": 3,
     "metadata": {},
     "output_type": "execute_result"
    }
   ],
   "source": [
    "pair_data.head()"
   ]
  },
  {
   "cell_type": "code",
   "execution_count": 4,
   "metadata": {
    "collapsed": true
   },
   "outputs": [],
   "source": [
    "gt_df = pair_data[pair_data['task_type']=='gt']"
   ]
  },
  {
   "cell_type": "code",
   "execution_count": 5,
   "metadata": {},
   "outputs": [
    {
     "data": {
      "text/plain": [
       "(132, 10)"
      ]
     },
     "execution_count": 5,
     "metadata": {},
     "output_type": "execute_result"
    }
   ],
   "source": [
    "gt_df.shape"
   ]
  },
  {
   "cell_type": "code",
   "execution_count": 6,
   "metadata": {},
   "outputs": [
    {
     "data": {
      "text/plain": [
       "14"
      ]
     },
     "execution_count": 6,
     "metadata": {},
     "output_type": "execute_result"
    }
   ],
   "source": [
    "pair_data['subId'].nunique()"
   ]
  },
  {
   "cell_type": "code",
   "execution_count": 7,
   "metadata": {},
   "outputs": [
    {
     "data": {
      "text/plain": [
       "(1313, 10)"
      ]
     },
     "execution_count": 7,
     "metadata": {},
     "output_type": "execute_result"
    }
   ],
   "source": [
    "pair_data.shape"
   ]
  },
  {
   "cell_type": "code",
   "execution_count": 8,
   "metadata": {},
   "outputs": [
    {
     "data": {
      "text/plain": [
       "89"
      ]
     },
     "execution_count": 8,
     "metadata": {},
     "output_type": "execute_result"
    }
   ],
   "source": [
    "gt_df['correct'].sum()"
   ]
  },
  {
   "cell_type": "code",
   "execution_count": 9,
   "metadata": {},
   "outputs": [
    {
     "data": {
      "text/plain": [
       "0.6742424242424242"
      ]
     },
     "execution_count": 9,
     "metadata": {},
     "output_type": "execute_result"
    }
   ],
   "source": [
    "from __future__ import division\n",
    "\n",
    "gt_df['correct'].sum() / len(gt_df)"
   ]
  },
  {
   "cell_type": "code",
   "execution_count": 10,
   "metadata": {
    "collapsed": true
   },
   "outputs": [],
   "source": [
    "stargan_df = pair_data[pair_data['task_type']=='stargan']"
   ]
  },
  {
   "cell_type": "code",
   "execution_count": 11,
   "metadata": {},
   "outputs": [
    {
     "data": {
      "text/plain": [
       "0.5114309906858594"
      ]
     },
     "execution_count": 11,
     "metadata": {},
     "output_type": "execute_result"
    }
   ],
   "source": [
    "stargan_df['correct'].sum() / len(stargan_df)"
   ]
  },
  {
   "cell_type": "code",
   "execution_count": 13,
   "metadata": {},
   "outputs": [
    {
     "data": {
      "text/plain": [
       "690"
      ]
     },
     "execution_count": 13,
     "metadata": {},
     "output_type": "execute_result"
    }
   ],
   "source": [
    "(pair_data['response'] == 'right').sum()"
   ]
  },
  {
   "cell_type": "code",
   "execution_count": 14,
   "metadata": {},
   "outputs": [
    {
     "data": {
      "text/plain": [
       "623"
      ]
     },
     "execution_count": 14,
     "metadata": {},
     "output_type": "execute_result"
    }
   ],
   "source": [
    "(pair_data['response'] == 'left').sum()"
   ]
  },
  {
   "cell_type": "code",
   "execution_count": 15,
   "metadata": {},
   "outputs": [
    {
     "data": {
      "text/plain": [
       "1313"
      ]
     },
     "execution_count": 15,
     "metadata": {},
     "output_type": "execute_result"
    }
   ],
   "source": [
    "690+623"
   ]
  },
  {
   "cell_type": "code",
   "execution_count": null,
   "metadata": {
    "collapsed": true
   },
   "outputs": [],
   "source": []
  }
 ],
 "metadata": {
  "kernelspec": {
   "display_name": "Python 2",
   "language": "python",
   "name": "python2"
  },
  "language_info": {
   "codemirror_mode": {
    "name": "ipython",
    "version": 2
   },
   "file_extension": ".py",
   "mimetype": "text/x-python",
   "name": "python",
   "nbconvert_exporter": "python",
   "pygments_lexer": "ipython2",
   "version": "2.7.13"
  }
 },
 "nbformat": 4,
 "nbformat_minor": 2
}
