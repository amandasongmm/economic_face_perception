{
 "cells": [
  {
   "cell_type": "code",
   "execution_count": 27,
   "metadata": {},
   "outputs": [],
   "source": [
    "import json\n",
    "import pandas as pd\n",
    "import time\n",
    "import numpy as np\n",
    "import scipy.stats\n",
    "import matplotlib.pyplot as plt\n",
    "from scipy.stats import spearmanr\n",
    "import os\n",
    "%matplotlib inline\n",
    "\n",
    "task_type = 'modifae'\n",
    "trait_name = 'attractive'\n",
    "high_low_type = 'low-high'\n",
    "\n",
    "sub_folder_name = './' + task_type + '/' + trait_name + '-' + high_low_type + '/'\n",
    "pair_data_csv = sub_folder_name + 'pair_data.csv'\n",
    "# trial_csv = sub_folder_name + 'trialdata.csv'\n",
    "\n",
    "trial_csv = '../../ptdir/trialdata.csv'\n",
    "\n",
    "column_names = [\"subId\", \"trialNum\", \"trialId\", \"jsonStr\"]\n",
    "trial = pd.read_csv(trial_csv, names=column_names, header=None)"
   ]
  },
  {
   "cell_type": "code",
   "execution_count": 29,
   "metadata": {},
   "outputs": [
    {
     "name": "stdout",
     "output_type": "stream",
     "text": [
      "/static/images/gt_pairwise/attractive-low-3.png /static/images/gt_pairwise/attractive-high-5.png 1 right\n",
      "/static/images/gt_pairwise/attractive-low-2.png /static/images/gt_pairwise/attractive-high-2.png 1 right\n"
     ]
    }
   ],
   "source": [
    "i = 0\n",
    "for ind, row in trial.iterrows():\n",
    "    json_dict = json.loads(row['jsonStr'])\n",
    "    if 'rt' in json_dict:\n",
    "\n",
    "        if json_dict['response'] == 'right' and json_dict['low_first'] == 1:\n",
    "            print json_dict['im1'], json_dict['im2'], json_dict['low_first'], json_dict['response']\n",
    "            \n"
   ]
  },
  {
   "cell_type": "code",
   "execution_count": 30,
   "metadata": {},
   "outputs": [
    {
     "data": {
      "text/plain": [
       "{u'im1': u'/static/images/gt_pairwise/attractive-low-3.png',\n",
       " u'im2': u'/static/images/gt_pairwise/attractive-high-5.png',\n",
       " u'low_first': 1,\n",
       " u'phase': u'TEST',\n",
       " u'repeat': 0,\n",
       " u'response': u'0',\n",
       " u'rt': 8663,\n",
       " u'task_type': u'gt'}"
      ]
     },
     "execution_count": 30,
     "metadata": {},
     "output_type": "execute_result"
    }
   ],
   "source": [
    "json.loads(trial.iloc[3]['jsonStr'])"
   ]
  },
  {
   "cell_type": "code",
   "execution_count": 33,
   "metadata": {},
   "outputs": [
    {
     "data": {
      "text/plain": [
       "[u'/static/images/gt_pairwise/attractive-low-3', u'']"
      ]
     },
     "execution_count": 33,
     "metadata": {},
     "output_type": "execute_result"
    }
   ],
   "source": [
    "json.loads(trial.iloc[3]['jsonStr'])['im1'].split('.png')"
   ]
  },
  {
   "cell_type": "code",
   "execution_count": 43,
   "metadata": {},
   "outputs": [
    {
     "name": "stdout",
     "output_type": "stream",
     "text": [
      "attractive-low-3.png\n"
     ]
    }
   ],
   "source": [
    "import os\n",
    "base=os.path.basename(json.loads(trial.iloc[3]['jsonStr'])['im1'])\n",
    "print base"
   ]
  },
  {
   "cell_type": "code",
   "execution_count": 50,
   "metadata": {},
   "outputs": [
    {
     "data": {
      "text/plain": [
       "u'3.png'"
      ]
     },
     "execution_count": 50,
     "metadata": {},
     "output_type": "execute_result"
    }
   ],
   "source": [
    "base.split('-')[-1]"
   ]
  },
  {
   "cell_type": "code",
   "execution_count": 53,
   "metadata": {},
   "outputs": [
    {
     "data": {
      "text/plain": [
       "['136189_0.75.png']"
      ]
     },
     "execution_count": 53,
     "metadata": {},
     "output_type": "execute_result"
    }
   ],
   "source": [
    "string_t = '136189_0.75.png'\n",
    "string_t.split('-')\n"
   ]
  },
  {
   "cell_type": "code",
   "execution_count": 49,
   "metadata": {},
   "outputs": [
    {
     "name": "stdout",
     "output_type": "stream",
     "text": [
      "attractive-low-3\n"
     ]
    }
   ],
   "source": [
    "print(os.path.splitext(base)[0])"
   ]
  },
  {
   "cell_type": "code",
   "execution_count": 51,
   "metadata": {},
   "outputs": [
    {
     "data": {
      "text/plain": [
       "3"
      ]
     },
     "execution_count": 51,
     "metadata": {},
     "output_type": "execute_result"
    }
   ],
   "source": [
    "len(base.split('-'))"
   ]
  },
  {
   "cell_type": "code",
   "execution_count": 52,
   "metadata": {},
   "outputs": [
    {
     "data": {
      "text/plain": [
       "['136189', '-0.75.png']"
      ]
     },
     "execution_count": 52,
     "metadata": {},
     "output_type": "execute_result"
    }
   ],
   "source": [
    "string_t.split('_')"
   ]
  },
  {
   "cell_type": "code",
   "execution_count": null,
   "metadata": {
    "collapsed": true
   },
   "outputs": [],
   "source": []
  }
 ],
 "metadata": {
  "kernelspec": {
   "display_name": "Python 2",
   "language": "python",
   "name": "python2"
  },
  "language_info": {
   "codemirror_mode": {
    "name": "ipython",
    "version": 2
   },
   "file_extension": ".py",
   "mimetype": "text/x-python",
   "name": "python",
   "nbconvert_exporter": "python",
   "pygments_lexer": "ipython2",
   "version": "2.7.13"
  }
 },
 "nbformat": 4,
 "nbformat_minor": 2
}
