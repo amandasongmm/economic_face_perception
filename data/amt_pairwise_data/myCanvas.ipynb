{
 "cells": [
  {
   "cell_type": "code",
   "execution_count": 5,
   "metadata": {
    "collapsed": true
   },
   "outputs": [],
   "source": [
    "import json\n",
    "import pandas as pd\n",
    "import numpy as np\n",
    "import matplotlib.pyplot as plt\n",
    "from scipy.stats import spearmanr\n",
    "import os\n",
    "import os.path\n",
    "import shutil\n",
    "from __future__ import division\n",
    "\n",
    "def cal_acc(task_type, trait_name, high_low_type):\n",
    "    # move experiment data from pt_dir to a specific folder specified by task config params.\n",
    "\n",
    "    sub_folder_name = './' + task_type + '/' + trait_name + '-' + high_low_type + '/'\n",
    "    pair_data_csv = sub_folder_name + 'pair_data.csv'\n",
    "\n",
    "    pair_data = pd.read_csv(pair_data_csv)\n",
    "    \n",
    "    gt_df = pair_data[pair_data['task_type']=='gt']\n",
    "    gt_acc = (gt_df['correct']==True).sum() / len(gt_df)\n",
    "    \n",
    "    data_df = pair_data[pair_data['task_type']==task_type]\n",
    "    data_acc = (data_df['correct']==True).sum() / len(data_df)\n",
    "    \n",
    "    print(task_type, trait_name, high_low_type)\n",
    "    print('gt acc = {}, data acc = {}'.format(gt_acc, data_acc))"
   ]
  },
  {
   "cell_type": "code",
   "execution_count": 9,
   "metadata": {},
   "outputs": [
    {
     "name": "stdout",
     "output_type": "stream",
     "text": [
      "('modifae', 'aggressive', 'low-high')\n",
      "gt acc = 0.66875, data acc = 0.640277777778\n"
     ]
    }
   ],
   "source": [
    "task_type = 'modifae'\n",
    "trait_name = 'aggressive'\n",
    "high_low_type = 'low-high'\n",
    "cal_acc(task_type, trait_name, high_low_type)\n"
   ]
  },
  {
   "cell_type": "code",
   "execution_count": 6,
   "metadata": {},
   "outputs": [
    {
     "name": "stdout",
     "output_type": "stream",
     "text": [
      "('stargan', 'aggressive', 'low-high')\n",
      "gt acc = 0.673333333333, data acc = 0.594298245614\n"
     ]
    }
   ],
   "source": [
    "task_type = 'stargan'\n",
    "trait_name = 'aggressive'\n",
    "high_low_type = 'low-high'\n",
    "cal_acc(task_type, trait_name, high_low_type)"
   ]
  },
  {
   "cell_type": "code",
   "execution_count": 7,
   "metadata": {},
   "outputs": [
    {
     "name": "stdout",
     "output_type": "stream",
     "text": [
      "('modifae', 'attractive', 'low-high')\n",
      "gt acc = 0.742857142857, data acc = 0.673015873016\n"
     ]
    }
   ],
   "source": [
    "task_type = 'modifae'\n",
    "trait_name = 'attractive'\n",
    "high_low_type = 'low-high'\n",
    "\n",
    "cal_acc(task_type, trait_name, high_low_type)"
   ]
  },
  {
   "cell_type": "code",
   "execution_count": 8,
   "metadata": {},
   "outputs": [
    {
     "name": "stdout",
     "output_type": "stream",
     "text": [
      "('stargan', 'attractive', 'low-high')\n",
      "gt acc = 0.674242424242, data acc = 0.511430990686\n"
     ]
    }
   ],
   "source": [
    "task_type = 'stargan'\n",
    "trait_name = 'attractive'\n",
    "high_low_type = 'low-high'\n",
    "\n",
    "cal_acc(task_type, trait_name, high_low_type)"
   ]
  },
  {
   "cell_type": "code",
   "execution_count": 11,
   "metadata": {},
   "outputs": [
    {
     "name": "stdout",
     "output_type": "stream",
     "text": [
      "('modifae', 'attractive', 'mid-high')\n",
      "gt acc = 0.5625, data acc = 0.522916666667\n"
     ]
    }
   ],
   "source": [
    "task_type = 'modifae'\n",
    "trait_name = 'attractive'\n",
    "high_low_type = 'mid-high'\n",
    "\n",
    "cal_acc(task_type, trait_name, high_low_type)"
   ]
  },
  {
   "cell_type": "code",
   "execution_count": 12,
   "metadata": {
    "collapsed": true
   },
   "outputs": [],
   "source": [
    "task_type = 'modifae'\n",
    "trait_name = 'attractive'\n",
    "high_low_type = 'mid-high'\n",
    "sub_folder_name = './' + task_type + '/' + trait_name + '-' + high_low_type + '/'\n",
    "pair_data_csv = sub_folder_name + 'pair_data.csv'\n",
    "\n",
    "pair_data = pd.read_csv(pair_data_csv)"
   ]
  },
  {
   "cell_type": "code",
   "execution_count": 13,
   "metadata": {},
   "outputs": [
    {
     "data": {
      "text/plain": [
       "(1600, 10)"
      ]
     },
     "execution_count": 13,
     "metadata": {},
     "output_type": "execute_result"
    }
   ],
   "source": [
    "pair_data.shape"
   ]
  },
  {
   "cell_type": "code",
   "execution_count": 14,
   "metadata": {},
   "outputs": [
    {
     "data": {
      "text/html": [
       "<div>\n",
       "<style scoped>\n",
       "    .dataframe tbody tr th:only-of-type {\n",
       "        vertical-align: middle;\n",
       "    }\n",
       "\n",
       "    .dataframe tbody tr th {\n",
       "        vertical-align: top;\n",
       "    }\n",
       "\n",
       "    .dataframe thead th {\n",
       "        text-align: right;\n",
       "    }\n",
       "</style>\n",
       "<table border=\"1\" class=\"dataframe\">\n",
       "  <thead>\n",
       "    <tr style=\"text-align: right;\">\n",
       "      <th></th>\n",
       "      <th>Unnamed: 0</th>\n",
       "      <th>subId</th>\n",
       "      <th>rt</th>\n",
       "      <th>im1</th>\n",
       "      <th>im2</th>\n",
       "      <th>response</th>\n",
       "      <th>low_first</th>\n",
       "      <th>repeat</th>\n",
       "      <th>task_type</th>\n",
       "      <th>correct</th>\n",
       "    </tr>\n",
       "  </thead>\n",
       "  <tbody>\n",
       "    <tr>\n",
       "      <th>0</th>\n",
       "      <td>0</td>\n",
       "      <td>AOJOJXMFTB22L:3QAVNHZ3EOBDE4K95AUNKMV6VPILAK</td>\n",
       "      <td>6901</td>\n",
       "      <td>/static/images/modifae_pairwise/attractive/136...</td>\n",
       "      <td>/static/images/modifae_pairwise/attractive/136...</td>\n",
       "      <td>right</td>\n",
       "      <td>0</td>\n",
       "      <td>0</td>\n",
       "      <td>modifae</td>\n",
       "      <td>False</td>\n",
       "    </tr>\n",
       "    <tr>\n",
       "      <th>1</th>\n",
       "      <td>1</td>\n",
       "      <td>AOJOJXMFTB22L:3QAVNHZ3EOBDE4K95AUNKMV6VPILAK</td>\n",
       "      <td>1600</td>\n",
       "      <td>/static/images/modifae_pairwise/attractive/136...</td>\n",
       "      <td>/static/images/modifae_pairwise/attractive/136...</td>\n",
       "      <td>left</td>\n",
       "      <td>1</td>\n",
       "      <td>0</td>\n",
       "      <td>modifae</td>\n",
       "      <td>False</td>\n",
       "    </tr>\n",
       "    <tr>\n",
       "      <th>2</th>\n",
       "      <td>2</td>\n",
       "      <td>AOJOJXMFTB22L:3QAVNHZ3EOBDE4K95AUNKMV6VPILAK</td>\n",
       "      <td>1582</td>\n",
       "      <td>/static/images/modifae_pairwise/attractive/136...</td>\n",
       "      <td>/static/images/modifae_pairwise/attractive/136...</td>\n",
       "      <td>right</td>\n",
       "      <td>1</td>\n",
       "      <td>1</td>\n",
       "      <td>modifae</td>\n",
       "      <td>True</td>\n",
       "    </tr>\n",
       "    <tr>\n",
       "      <th>3</th>\n",
       "      <td>3</td>\n",
       "      <td>AOJOJXMFTB22L:3QAVNHZ3EOBDE4K95AUNKMV6VPILAK</td>\n",
       "      <td>1472</td>\n",
       "      <td>/static/images/modifae_pairwise/attractive/136...</td>\n",
       "      <td>/static/images/modifae_pairwise/attractive/136...</td>\n",
       "      <td>left</td>\n",
       "      <td>0</td>\n",
       "      <td>0</td>\n",
       "      <td>gt</td>\n",
       "      <td>True</td>\n",
       "    </tr>\n",
       "    <tr>\n",
       "      <th>4</th>\n",
       "      <td>4</td>\n",
       "      <td>AOJOJXMFTB22L:3QAVNHZ3EOBDE4K95AUNKMV6VPILAK</td>\n",
       "      <td>1232</td>\n",
       "      <td>/static/images/modifae_pairwise/attractive/136...</td>\n",
       "      <td>/static/images/modifae_pairwise/attractive/136...</td>\n",
       "      <td>right</td>\n",
       "      <td>1</td>\n",
       "      <td>0</td>\n",
       "      <td>modifae</td>\n",
       "      <td>True</td>\n",
       "    </tr>\n",
       "  </tbody>\n",
       "</table>\n",
       "</div>"
      ],
      "text/plain": [
       "   Unnamed: 0                                         subId    rt  \\\n",
       "0           0  AOJOJXMFTB22L:3QAVNHZ3EOBDE4K95AUNKMV6VPILAK  6901   \n",
       "1           1  AOJOJXMFTB22L:3QAVNHZ3EOBDE4K95AUNKMV6VPILAK  1600   \n",
       "2           2  AOJOJXMFTB22L:3QAVNHZ3EOBDE4K95AUNKMV6VPILAK  1582   \n",
       "3           3  AOJOJXMFTB22L:3QAVNHZ3EOBDE4K95AUNKMV6VPILAK  1472   \n",
       "4           4  AOJOJXMFTB22L:3QAVNHZ3EOBDE4K95AUNKMV6VPILAK  1232   \n",
       "\n",
       "                                                 im1  \\\n",
       "0  /static/images/modifae_pairwise/attractive/136...   \n",
       "1  /static/images/modifae_pairwise/attractive/136...   \n",
       "2  /static/images/modifae_pairwise/attractive/136...   \n",
       "3  /static/images/modifae_pairwise/attractive/136...   \n",
       "4  /static/images/modifae_pairwise/attractive/136...   \n",
       "\n",
       "                                                 im2 response  low_first  \\\n",
       "0  /static/images/modifae_pairwise/attractive/136...    right          0   \n",
       "1  /static/images/modifae_pairwise/attractive/136...     left          1   \n",
       "2  /static/images/modifae_pairwise/attractive/136...    right          1   \n",
       "3  /static/images/modifae_pairwise/attractive/136...     left          0   \n",
       "4  /static/images/modifae_pairwise/attractive/136...    right          1   \n",
       "\n",
       "   repeat task_type  correct  \n",
       "0       0   modifae    False  \n",
       "1       0   modifae    False  \n",
       "2       1   modifae     True  \n",
       "3       0        gt     True  \n",
       "4       0   modifae     True  "
      ]
     },
     "execution_count": 14,
     "metadata": {},
     "output_type": "execute_result"
    }
   ],
   "source": [
    "pair_data.head()"
   ]
  },
  {
   "cell_type": "code",
   "execution_count": null,
   "metadata": {
    "collapsed": true
   },
   "outputs": [],
   "source": []
  }
 ],
 "metadata": {
  "kernelspec": {
   "display_name": "Python 2",
   "language": "python",
   "name": "python2"
  },
  "language_info": {
   "codemirror_mode": {
    "name": "ipython",
    "version": 2
   },
   "file_extension": ".py",
   "mimetype": "text/x-python",
   "name": "python",
   "nbconvert_exporter": "python",
   "pygments_lexer": "ipython2",
   "version": "2.7.13"
  }
 },
 "nbformat": 4,
 "nbformat_minor": 2
}
