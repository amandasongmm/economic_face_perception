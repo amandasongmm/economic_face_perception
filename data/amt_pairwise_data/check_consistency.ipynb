{
 "cells": [
  {
   "cell_type": "code",
   "execution_count": 27,
   "metadata": {
    "collapsed": true
   },
   "outputs": [],
   "source": [
    "import pandas as pd\n",
    "import os\n",
    "\n",
    "task_type = 'modifae'\n",
    "trait_name = 'attractive'\n",
    "high_low_type = 'mid-high'\n",
    "\n",
    "pair_data_csv = './' + task_type + '/' + trait_name + '-' + high_low_type + '/pair_data.csv'\n",
    "pair_data = pd.read_csv(pair_data_csv, index_col=0)\n",
    "\n",
    "\n",
    "# sanity check.\n",
    "sub_num_dict = {}\n",
    "sub_counter = 1\n",
    "for sub_id in pair_data['subId']:\n",
    "    if sub_id not in sub_num_dict:\n",
    "        sub_num_dict[sub_id] = sub_counter\n",
    "        sub_counter += 1\n",
    "pair_data['subNum'] = pair_data['subId'].map(sub_num_dict)\n",
    "\n",
    "\n",
    "pair_uid_lst = []\n",
    "for i in pair_data['im1']:\n",
    "    pair_uid_lst.append(os.path.basename(i).split('.png')[0].split('_')[0])\n",
    "pair_data['pair_ind'] = pair_uid_lst"
   ]
  },
  {
   "cell_type": "code",
   "execution_count": 28,
   "metadata": {},
   "outputs": [
    {
     "data": {
      "text/html": [
       "<div>\n",
       "<style scoped>\n",
       "    .dataframe tbody tr th:only-of-type {\n",
       "        vertical-align: middle;\n",
       "    }\n",
       "\n",
       "    .dataframe tbody tr th {\n",
       "        vertical-align: top;\n",
       "    }\n",
       "\n",
       "    .dataframe thead th {\n",
       "        text-align: right;\n",
       "    }\n",
       "</style>\n",
       "<table border=\"1\" class=\"dataframe\">\n",
       "  <thead>\n",
       "    <tr style=\"text-align: right;\">\n",
       "      <th></th>\n",
       "      <th>subId</th>\n",
       "      <th>rt</th>\n",
       "      <th>im1</th>\n",
       "      <th>im2</th>\n",
       "      <th>response</th>\n",
       "      <th>low_first</th>\n",
       "      <th>repeat</th>\n",
       "      <th>task_type</th>\n",
       "      <th>correct</th>\n",
       "      <th>subNum</th>\n",
       "      <th>pair_ind</th>\n",
       "    </tr>\n",
       "  </thead>\n",
       "  <tbody>\n",
       "    <tr>\n",
       "      <th>0</th>\n",
       "      <td>AOJOJXMFTB22L:3QAVNHZ3EOBDE4K95AUNKMV6VPILAK</td>\n",
       "      <td>6901</td>\n",
       "      <td>/static/images/modifae_pairwise/attractive/136...</td>\n",
       "      <td>/static/images/modifae_pairwise/attractive/136...</td>\n",
       "      <td>right</td>\n",
       "      <td>0</td>\n",
       "      <td>0</td>\n",
       "      <td>modifae</td>\n",
       "      <td>False</td>\n",
       "      <td>1</td>\n",
       "      <td>136200</td>\n",
       "    </tr>\n",
       "    <tr>\n",
       "      <th>1</th>\n",
       "      <td>AOJOJXMFTB22L:3QAVNHZ3EOBDE4K95AUNKMV6VPILAK</td>\n",
       "      <td>1600</td>\n",
       "      <td>/static/images/modifae_pairwise/attractive/136...</td>\n",
       "      <td>/static/images/modifae_pairwise/attractive/136...</td>\n",
       "      <td>left</td>\n",
       "      <td>1</td>\n",
       "      <td>0</td>\n",
       "      <td>modifae</td>\n",
       "      <td>False</td>\n",
       "      <td>1</td>\n",
       "      <td>136221</td>\n",
       "    </tr>\n",
       "    <tr>\n",
       "      <th>2</th>\n",
       "      <td>AOJOJXMFTB22L:3QAVNHZ3EOBDE4K95AUNKMV6VPILAK</td>\n",
       "      <td>1582</td>\n",
       "      <td>/static/images/modifae_pairwise/attractive/136...</td>\n",
       "      <td>/static/images/modifae_pairwise/attractive/136...</td>\n",
       "      <td>right</td>\n",
       "      <td>1</td>\n",
       "      <td>1</td>\n",
       "      <td>modifae</td>\n",
       "      <td>True</td>\n",
       "      <td>1</td>\n",
       "      <td>136263</td>\n",
       "    </tr>\n",
       "    <tr>\n",
       "      <th>3</th>\n",
       "      <td>AOJOJXMFTB22L:3QAVNHZ3EOBDE4K95AUNKMV6VPILAK</td>\n",
       "      <td>1472</td>\n",
       "      <td>/static/images/modifae_pairwise/attractive/136...</td>\n",
       "      <td>/static/images/modifae_pairwise/attractive/136...</td>\n",
       "      <td>left</td>\n",
       "      <td>0</td>\n",
       "      <td>0</td>\n",
       "      <td>gt</td>\n",
       "      <td>True</td>\n",
       "      <td>1</td>\n",
       "      <td>136191</td>\n",
       "    </tr>\n",
       "    <tr>\n",
       "      <th>4</th>\n",
       "      <td>AOJOJXMFTB22L:3QAVNHZ3EOBDE4K95AUNKMV6VPILAK</td>\n",
       "      <td>1232</td>\n",
       "      <td>/static/images/modifae_pairwise/attractive/136...</td>\n",
       "      <td>/static/images/modifae_pairwise/attractive/136...</td>\n",
       "      <td>right</td>\n",
       "      <td>1</td>\n",
       "      <td>0</td>\n",
       "      <td>modifae</td>\n",
       "      <td>True</td>\n",
       "      <td>1</td>\n",
       "      <td>136265</td>\n",
       "    </tr>\n",
       "  </tbody>\n",
       "</table>\n",
       "</div>"
      ],
      "text/plain": [
       "                                          subId    rt  \\\n",
       "0  AOJOJXMFTB22L:3QAVNHZ3EOBDE4K95AUNKMV6VPILAK  6901   \n",
       "1  AOJOJXMFTB22L:3QAVNHZ3EOBDE4K95AUNKMV6VPILAK  1600   \n",
       "2  AOJOJXMFTB22L:3QAVNHZ3EOBDE4K95AUNKMV6VPILAK  1582   \n",
       "3  AOJOJXMFTB22L:3QAVNHZ3EOBDE4K95AUNKMV6VPILAK  1472   \n",
       "4  AOJOJXMFTB22L:3QAVNHZ3EOBDE4K95AUNKMV6VPILAK  1232   \n",
       "\n",
       "                                                 im1  \\\n",
       "0  /static/images/modifae_pairwise/attractive/136...   \n",
       "1  /static/images/modifae_pairwise/attractive/136...   \n",
       "2  /static/images/modifae_pairwise/attractive/136...   \n",
       "3  /static/images/modifae_pairwise/attractive/136...   \n",
       "4  /static/images/modifae_pairwise/attractive/136...   \n",
       "\n",
       "                                                 im2 response  low_first  \\\n",
       "0  /static/images/modifae_pairwise/attractive/136...    right          0   \n",
       "1  /static/images/modifae_pairwise/attractive/136...     left          1   \n",
       "2  /static/images/modifae_pairwise/attractive/136...    right          1   \n",
       "3  /static/images/modifae_pairwise/attractive/136...     left          0   \n",
       "4  /static/images/modifae_pairwise/attractive/136...    right          1   \n",
       "\n",
       "   repeat task_type  correct  subNum pair_ind  \n",
       "0       0   modifae    False       1   136200  \n",
       "1       0   modifae    False       1   136221  \n",
       "2       1   modifae     True       1   136263  \n",
       "3       0        gt     True       1   136191  \n",
       "4       0   modifae     True       1   136265  "
      ]
     },
     "execution_count": 28,
     "metadata": {},
     "output_type": "execute_result"
    }
   ],
   "source": [
    "pair_data.head()"
   ]
  },
  {
   "cell_type": "code",
   "execution_count": 31,
   "metadata": {},
   "outputs": [
    {
     "data": {
      "text/plain": [
       "72"
      ]
     },
     "execution_count": 31,
     "metadata": {},
     "output_type": "execute_result"
    }
   ],
   "source": [
    "pair_data['pair_ind'].nunique()"
   ]
  },
  {
   "cell_type": "code",
   "execution_count": 32,
   "metadata": {},
   "outputs": [
    {
     "data": {
      "text/plain": [
       "(1600, 11)"
      ]
     },
     "execution_count": 32,
     "metadata": {},
     "output_type": "execute_result"
    }
   ],
   "source": [
    "pair_data.shape"
   ]
  },
  {
   "cell_type": "code",
   "execution_count": null,
   "metadata": {
    "collapsed": true
   },
   "outputs": [],
   "source": []
  }
 ],
 "metadata": {
  "kernelspec": {
   "display_name": "Python 2",
   "language": "python",
   "name": "python2"
  },
  "language_info": {
   "codemirror_mode": {
    "name": "ipython",
    "version": 2
   },
   "file_extension": ".py",
   "mimetype": "text/x-python",
   "name": "python",
   "nbconvert_exporter": "python",
   "pygments_lexer": "ipython2",
   "version": "2.7.13"
  }
 },
 "nbformat": 4,
 "nbformat_minor": 2
}
